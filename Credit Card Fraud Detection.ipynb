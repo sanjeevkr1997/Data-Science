{
 "cells": [
  {
   "cell_type": "markdown",
   "metadata": {},
   "source": [
    "# Credit Card Fraud Detection"
   ]
  },
  {
   "cell_type": "markdown",
   "metadata": {},
   "source": [
    "##### Detecting fraud transactions is of great importance for any credit card company. So, We need to detect potential frauds so that customers are not charged for items that they did not purchase. So the goal is to build a classifier that tells if a transaction is a fraud or not."
   ]
  },
  {
   "cell_type": "markdown",
   "metadata": {},
   "source": [
    "### Loading Libraries"
   ]
  },
  {
   "cell_type": "code",
   "execution_count": 1,
   "metadata": {},
   "outputs": [],
   "source": [
    "import pandas as pd\n",
    "import numpy as np\n",
    "import matplotlib.pyplot as plt\n",
    "import seaborn as sns\n",
    "%matplotlib inline\n",
    "import warnings\n",
    "warnings.filterwarnings('ignore')"
   ]
  },
  {
   "cell_type": "markdown",
   "metadata": {},
   "source": [
    "### Data Loading"
   ]
  },
  {
   "cell_type": "code",
   "execution_count": 2,
   "metadata": {},
   "outputs": [],
   "source": [
    "data = pd.read_csv('creditcard.csv')"
   ]
  },
  {
   "cell_type": "markdown",
   "metadata": {},
   "source": [
    "#### Print the shape of the data"
   ]
  },
  {
   "cell_type": "code",
   "execution_count": 3,
   "metadata": {},
   "outputs": [
    {
     "name": "stdout",
     "output_type": "stream",
     "text": [
      "(284807, 31)\n"
     ]
    }
   ],
   "source": [
    "print(data.shape)"
   ]
  },
  {
   "cell_type": "markdown",
   "metadata": {},
   "source": [
    "#### First 5 entery of the data"
   ]
  },
  {
   "cell_type": "code",
   "execution_count": 4,
   "metadata": {
    "scrolled": false
   },
   "outputs": [
    {
     "data": {
      "text/html": [
       "<div>\n",
       "<style scoped>\n",
       "    .dataframe tbody tr th:only-of-type {\n",
       "        vertical-align: middle;\n",
       "    }\n",
       "\n",
       "    .dataframe tbody tr th {\n",
       "        vertical-align: top;\n",
       "    }\n",
       "\n",
       "    .dataframe thead th {\n",
       "        text-align: right;\n",
       "    }\n",
       "</style>\n",
       "<table border=\"1\" class=\"dataframe\">\n",
       "  <thead>\n",
       "    <tr style=\"text-align: right;\">\n",
       "      <th></th>\n",
       "      <th>Time</th>\n",
       "      <th>V1</th>\n",
       "      <th>V2</th>\n",
       "      <th>V3</th>\n",
       "      <th>V4</th>\n",
       "      <th>V5</th>\n",
       "      <th>V6</th>\n",
       "      <th>V7</th>\n",
       "      <th>V8</th>\n",
       "      <th>V9</th>\n",
       "      <th>...</th>\n",
       "      <th>V21</th>\n",
       "      <th>V22</th>\n",
       "      <th>V23</th>\n",
       "      <th>V24</th>\n",
       "      <th>V25</th>\n",
       "      <th>V26</th>\n",
       "      <th>V27</th>\n",
       "      <th>V28</th>\n",
       "      <th>Amount</th>\n",
       "      <th>Class</th>\n",
       "    </tr>\n",
       "  </thead>\n",
       "  <tbody>\n",
       "    <tr>\n",
       "      <th>0</th>\n",
       "      <td>0.0</td>\n",
       "      <td>-1.359807</td>\n",
       "      <td>-0.072781</td>\n",
       "      <td>2.536347</td>\n",
       "      <td>1.378155</td>\n",
       "      <td>-0.338321</td>\n",
       "      <td>0.462388</td>\n",
       "      <td>0.239599</td>\n",
       "      <td>0.098698</td>\n",
       "      <td>0.363787</td>\n",
       "      <td>...</td>\n",
       "      <td>-0.018307</td>\n",
       "      <td>0.277838</td>\n",
       "      <td>-0.110474</td>\n",
       "      <td>0.066928</td>\n",
       "      <td>0.128539</td>\n",
       "      <td>-0.189115</td>\n",
       "      <td>0.133558</td>\n",
       "      <td>-0.021053</td>\n",
       "      <td>149.62</td>\n",
       "      <td>0</td>\n",
       "    </tr>\n",
       "    <tr>\n",
       "      <th>1</th>\n",
       "      <td>0.0</td>\n",
       "      <td>1.191857</td>\n",
       "      <td>0.266151</td>\n",
       "      <td>0.166480</td>\n",
       "      <td>0.448154</td>\n",
       "      <td>0.060018</td>\n",
       "      <td>-0.082361</td>\n",
       "      <td>-0.078803</td>\n",
       "      <td>0.085102</td>\n",
       "      <td>-0.255425</td>\n",
       "      <td>...</td>\n",
       "      <td>-0.225775</td>\n",
       "      <td>-0.638672</td>\n",
       "      <td>0.101288</td>\n",
       "      <td>-0.339846</td>\n",
       "      <td>0.167170</td>\n",
       "      <td>0.125895</td>\n",
       "      <td>-0.008983</td>\n",
       "      <td>0.014724</td>\n",
       "      <td>2.69</td>\n",
       "      <td>0</td>\n",
       "    </tr>\n",
       "    <tr>\n",
       "      <th>2</th>\n",
       "      <td>1.0</td>\n",
       "      <td>-1.358354</td>\n",
       "      <td>-1.340163</td>\n",
       "      <td>1.773209</td>\n",
       "      <td>0.379780</td>\n",
       "      <td>-0.503198</td>\n",
       "      <td>1.800499</td>\n",
       "      <td>0.791461</td>\n",
       "      <td>0.247676</td>\n",
       "      <td>-1.514654</td>\n",
       "      <td>...</td>\n",
       "      <td>0.247998</td>\n",
       "      <td>0.771679</td>\n",
       "      <td>0.909412</td>\n",
       "      <td>-0.689281</td>\n",
       "      <td>-0.327642</td>\n",
       "      <td>-0.139097</td>\n",
       "      <td>-0.055353</td>\n",
       "      <td>-0.059752</td>\n",
       "      <td>378.66</td>\n",
       "      <td>0</td>\n",
       "    </tr>\n",
       "    <tr>\n",
       "      <th>3</th>\n",
       "      <td>1.0</td>\n",
       "      <td>-0.966272</td>\n",
       "      <td>-0.185226</td>\n",
       "      <td>1.792993</td>\n",
       "      <td>-0.863291</td>\n",
       "      <td>-0.010309</td>\n",
       "      <td>1.247203</td>\n",
       "      <td>0.237609</td>\n",
       "      <td>0.377436</td>\n",
       "      <td>-1.387024</td>\n",
       "      <td>...</td>\n",
       "      <td>-0.108300</td>\n",
       "      <td>0.005274</td>\n",
       "      <td>-0.190321</td>\n",
       "      <td>-1.175575</td>\n",
       "      <td>0.647376</td>\n",
       "      <td>-0.221929</td>\n",
       "      <td>0.062723</td>\n",
       "      <td>0.061458</td>\n",
       "      <td>123.50</td>\n",
       "      <td>0</td>\n",
       "    </tr>\n",
       "    <tr>\n",
       "      <th>4</th>\n",
       "      <td>2.0</td>\n",
       "      <td>-1.158233</td>\n",
       "      <td>0.877737</td>\n",
       "      <td>1.548718</td>\n",
       "      <td>0.403034</td>\n",
       "      <td>-0.407193</td>\n",
       "      <td>0.095921</td>\n",
       "      <td>0.592941</td>\n",
       "      <td>-0.270533</td>\n",
       "      <td>0.817739</td>\n",
       "      <td>...</td>\n",
       "      <td>-0.009431</td>\n",
       "      <td>0.798278</td>\n",
       "      <td>-0.137458</td>\n",
       "      <td>0.141267</td>\n",
       "      <td>-0.206010</td>\n",
       "      <td>0.502292</td>\n",
       "      <td>0.219422</td>\n",
       "      <td>0.215153</td>\n",
       "      <td>69.99</td>\n",
       "      <td>0</td>\n",
       "    </tr>\n",
       "  </tbody>\n",
       "</table>\n",
       "<p>5 rows × 31 columns</p>\n",
       "</div>"
      ],
      "text/plain": [
       "   Time        V1        V2        V3        V4        V5        V6        V7  \\\n",
       "0   0.0 -1.359807 -0.072781  2.536347  1.378155 -0.338321  0.462388  0.239599   \n",
       "1   0.0  1.191857  0.266151  0.166480  0.448154  0.060018 -0.082361 -0.078803   \n",
       "2   1.0 -1.358354 -1.340163  1.773209  0.379780 -0.503198  1.800499  0.791461   \n",
       "3   1.0 -0.966272 -0.185226  1.792993 -0.863291 -0.010309  1.247203  0.237609   \n",
       "4   2.0 -1.158233  0.877737  1.548718  0.403034 -0.407193  0.095921  0.592941   \n",
       "\n",
       "         V8        V9  ...       V21       V22       V23       V24       V25  \\\n",
       "0  0.098698  0.363787  ... -0.018307  0.277838 -0.110474  0.066928  0.128539   \n",
       "1  0.085102 -0.255425  ... -0.225775 -0.638672  0.101288 -0.339846  0.167170   \n",
       "2  0.247676 -1.514654  ...  0.247998  0.771679  0.909412 -0.689281 -0.327642   \n",
       "3  0.377436 -1.387024  ... -0.108300  0.005274 -0.190321 -1.175575  0.647376   \n",
       "4 -0.270533  0.817739  ... -0.009431  0.798278 -0.137458  0.141267 -0.206010   \n",
       "\n",
       "        V26       V27       V28  Amount  Class  \n",
       "0 -0.189115  0.133558 -0.021053  149.62      0  \n",
       "1  0.125895 -0.008983  0.014724    2.69      0  \n",
       "2 -0.139097 -0.055353 -0.059752  378.66      0  \n",
       "3 -0.221929  0.062723  0.061458  123.50      0  \n",
       "4  0.502292  0.219422  0.215153   69.99      0  \n",
       "\n",
       "[5 rows x 31 columns]"
      ]
     },
     "execution_count": 4,
     "metadata": {},
     "output_type": "execute_result"
    }
   ],
   "source": [
    "data.head()"
   ]
  },
  {
   "cell_type": "markdown",
   "metadata": {},
   "source": [
    "#### Info of the data "
   ]
  },
  {
   "cell_type": "code",
   "execution_count": 5,
   "metadata": {
    "scrolled": false
   },
   "outputs": [
    {
     "name": "stdout",
     "output_type": "stream",
     "text": [
      "<class 'pandas.core.frame.DataFrame'>\n",
      "RangeIndex: 284807 entries, 0 to 284806\n",
      "Data columns (total 31 columns):\n",
      " #   Column  Non-Null Count   Dtype  \n",
      "---  ------  --------------   -----  \n",
      " 0   Time    284807 non-null  float64\n",
      " 1   V1      284807 non-null  float64\n",
      " 2   V2      284807 non-null  float64\n",
      " 3   V3      284807 non-null  float64\n",
      " 4   V4      284807 non-null  float64\n",
      " 5   V5      284807 non-null  float64\n",
      " 6   V6      284807 non-null  float64\n",
      " 7   V7      284807 non-null  float64\n",
      " 8   V8      284807 non-null  float64\n",
      " 9   V9      284807 non-null  float64\n",
      " 10  V10     284807 non-null  float64\n",
      " 11  V11     284807 non-null  float64\n",
      " 12  V12     284807 non-null  float64\n",
      " 13  V13     284807 non-null  float64\n",
      " 14  V14     284807 non-null  float64\n",
      " 15  V15     284807 non-null  float64\n",
      " 16  V16     284807 non-null  float64\n",
      " 17  V17     284807 non-null  float64\n",
      " 18  V18     284807 non-null  float64\n",
      " 19  V19     284807 non-null  float64\n",
      " 20  V20     284807 non-null  float64\n",
      " 21  V21     284807 non-null  float64\n",
      " 22  V22     284807 non-null  float64\n",
      " 23  V23     284807 non-null  float64\n",
      " 24  V24     284807 non-null  float64\n",
      " 25  V25     284807 non-null  float64\n",
      " 26  V26     284807 non-null  float64\n",
      " 27  V27     284807 non-null  float64\n",
      " 28  V28     284807 non-null  float64\n",
      " 29  Amount  284807 non-null  float64\n",
      " 30  Class   284807 non-null  int64  \n",
      "dtypes: float64(30), int64(1)\n",
      "memory usage: 67.4 MB\n"
     ]
    }
   ],
   "source": [
    "data.info()"
   ]
  },
  {
   "cell_type": "markdown",
   "metadata": {},
   "source": [
    "#### Summary of the data"
   ]
  },
  {
   "cell_type": "code",
   "execution_count": 6,
   "metadata": {
    "scrolled": true
   },
   "outputs": [
    {
     "data": {
      "text/html": [
       "<div>\n",
       "<style scoped>\n",
       "    .dataframe tbody tr th:only-of-type {\n",
       "        vertical-align: middle;\n",
       "    }\n",
       "\n",
       "    .dataframe tbody tr th {\n",
       "        vertical-align: top;\n",
       "    }\n",
       "\n",
       "    .dataframe thead th {\n",
       "        text-align: right;\n",
       "    }\n",
       "</style>\n",
       "<table border=\"1\" class=\"dataframe\">\n",
       "  <thead>\n",
       "    <tr style=\"text-align: right;\">\n",
       "      <th></th>\n",
       "      <th>Time</th>\n",
       "      <th>V1</th>\n",
       "      <th>V2</th>\n",
       "      <th>V3</th>\n",
       "      <th>V4</th>\n",
       "      <th>V5</th>\n",
       "      <th>V6</th>\n",
       "      <th>V7</th>\n",
       "      <th>V8</th>\n",
       "      <th>V9</th>\n",
       "      <th>...</th>\n",
       "      <th>V21</th>\n",
       "      <th>V22</th>\n",
       "      <th>V23</th>\n",
       "      <th>V24</th>\n",
       "      <th>V25</th>\n",
       "      <th>V26</th>\n",
       "      <th>V27</th>\n",
       "      <th>V28</th>\n",
       "      <th>Amount</th>\n",
       "      <th>Class</th>\n",
       "    </tr>\n",
       "  </thead>\n",
       "  <tbody>\n",
       "    <tr>\n",
       "      <th>count</th>\n",
       "      <td>284807.000000</td>\n",
       "      <td>2.848070e+05</td>\n",
       "      <td>2.848070e+05</td>\n",
       "      <td>2.848070e+05</td>\n",
       "      <td>2.848070e+05</td>\n",
       "      <td>2.848070e+05</td>\n",
       "      <td>2.848070e+05</td>\n",
       "      <td>2.848070e+05</td>\n",
       "      <td>2.848070e+05</td>\n",
       "      <td>2.848070e+05</td>\n",
       "      <td>...</td>\n",
       "      <td>2.848070e+05</td>\n",
       "      <td>2.848070e+05</td>\n",
       "      <td>2.848070e+05</td>\n",
       "      <td>2.848070e+05</td>\n",
       "      <td>2.848070e+05</td>\n",
       "      <td>2.848070e+05</td>\n",
       "      <td>2.848070e+05</td>\n",
       "      <td>2.848070e+05</td>\n",
       "      <td>284807.000000</td>\n",
       "      <td>284807.000000</td>\n",
       "    </tr>\n",
       "    <tr>\n",
       "      <th>mean</th>\n",
       "      <td>94813.859575</td>\n",
       "      <td>3.919560e-15</td>\n",
       "      <td>5.688174e-16</td>\n",
       "      <td>-8.769071e-15</td>\n",
       "      <td>2.782312e-15</td>\n",
       "      <td>-1.552563e-15</td>\n",
       "      <td>2.010663e-15</td>\n",
       "      <td>-1.694249e-15</td>\n",
       "      <td>-1.927028e-16</td>\n",
       "      <td>-3.137024e-15</td>\n",
       "      <td>...</td>\n",
       "      <td>1.537294e-16</td>\n",
       "      <td>7.959909e-16</td>\n",
       "      <td>5.367590e-16</td>\n",
       "      <td>4.458112e-15</td>\n",
       "      <td>1.453003e-15</td>\n",
       "      <td>1.699104e-15</td>\n",
       "      <td>-3.660161e-16</td>\n",
       "      <td>-1.206049e-16</td>\n",
       "      <td>88.349619</td>\n",
       "      <td>0.001727</td>\n",
       "    </tr>\n",
       "    <tr>\n",
       "      <th>std</th>\n",
       "      <td>47488.145955</td>\n",
       "      <td>1.958696e+00</td>\n",
       "      <td>1.651309e+00</td>\n",
       "      <td>1.516255e+00</td>\n",
       "      <td>1.415869e+00</td>\n",
       "      <td>1.380247e+00</td>\n",
       "      <td>1.332271e+00</td>\n",
       "      <td>1.237094e+00</td>\n",
       "      <td>1.194353e+00</td>\n",
       "      <td>1.098632e+00</td>\n",
       "      <td>...</td>\n",
       "      <td>7.345240e-01</td>\n",
       "      <td>7.257016e-01</td>\n",
       "      <td>6.244603e-01</td>\n",
       "      <td>6.056471e-01</td>\n",
       "      <td>5.212781e-01</td>\n",
       "      <td>4.822270e-01</td>\n",
       "      <td>4.036325e-01</td>\n",
       "      <td>3.300833e-01</td>\n",
       "      <td>250.120109</td>\n",
       "      <td>0.041527</td>\n",
       "    </tr>\n",
       "    <tr>\n",
       "      <th>min</th>\n",
       "      <td>0.000000</td>\n",
       "      <td>-5.640751e+01</td>\n",
       "      <td>-7.271573e+01</td>\n",
       "      <td>-4.832559e+01</td>\n",
       "      <td>-5.683171e+00</td>\n",
       "      <td>-1.137433e+02</td>\n",
       "      <td>-2.616051e+01</td>\n",
       "      <td>-4.355724e+01</td>\n",
       "      <td>-7.321672e+01</td>\n",
       "      <td>-1.343407e+01</td>\n",
       "      <td>...</td>\n",
       "      <td>-3.483038e+01</td>\n",
       "      <td>-1.093314e+01</td>\n",
       "      <td>-4.480774e+01</td>\n",
       "      <td>-2.836627e+00</td>\n",
       "      <td>-1.029540e+01</td>\n",
       "      <td>-2.604551e+00</td>\n",
       "      <td>-2.256568e+01</td>\n",
       "      <td>-1.543008e+01</td>\n",
       "      <td>0.000000</td>\n",
       "      <td>0.000000</td>\n",
       "    </tr>\n",
       "    <tr>\n",
       "      <th>25%</th>\n",
       "      <td>54201.500000</td>\n",
       "      <td>-9.203734e-01</td>\n",
       "      <td>-5.985499e-01</td>\n",
       "      <td>-8.903648e-01</td>\n",
       "      <td>-8.486401e-01</td>\n",
       "      <td>-6.915971e-01</td>\n",
       "      <td>-7.682956e-01</td>\n",
       "      <td>-5.540759e-01</td>\n",
       "      <td>-2.086297e-01</td>\n",
       "      <td>-6.430976e-01</td>\n",
       "      <td>...</td>\n",
       "      <td>-2.283949e-01</td>\n",
       "      <td>-5.423504e-01</td>\n",
       "      <td>-1.618463e-01</td>\n",
       "      <td>-3.545861e-01</td>\n",
       "      <td>-3.171451e-01</td>\n",
       "      <td>-3.269839e-01</td>\n",
       "      <td>-7.083953e-02</td>\n",
       "      <td>-5.295979e-02</td>\n",
       "      <td>5.600000</td>\n",
       "      <td>0.000000</td>\n",
       "    </tr>\n",
       "    <tr>\n",
       "      <th>50%</th>\n",
       "      <td>84692.000000</td>\n",
       "      <td>1.810880e-02</td>\n",
       "      <td>6.548556e-02</td>\n",
       "      <td>1.798463e-01</td>\n",
       "      <td>-1.984653e-02</td>\n",
       "      <td>-5.433583e-02</td>\n",
       "      <td>-2.741871e-01</td>\n",
       "      <td>4.010308e-02</td>\n",
       "      <td>2.235804e-02</td>\n",
       "      <td>-5.142873e-02</td>\n",
       "      <td>...</td>\n",
       "      <td>-2.945017e-02</td>\n",
       "      <td>6.781943e-03</td>\n",
       "      <td>-1.119293e-02</td>\n",
       "      <td>4.097606e-02</td>\n",
       "      <td>1.659350e-02</td>\n",
       "      <td>-5.213911e-02</td>\n",
       "      <td>1.342146e-03</td>\n",
       "      <td>1.124383e-02</td>\n",
       "      <td>22.000000</td>\n",
       "      <td>0.000000</td>\n",
       "    </tr>\n",
       "    <tr>\n",
       "      <th>75%</th>\n",
       "      <td>139320.500000</td>\n",
       "      <td>1.315642e+00</td>\n",
       "      <td>8.037239e-01</td>\n",
       "      <td>1.027196e+00</td>\n",
       "      <td>7.433413e-01</td>\n",
       "      <td>6.119264e-01</td>\n",
       "      <td>3.985649e-01</td>\n",
       "      <td>5.704361e-01</td>\n",
       "      <td>3.273459e-01</td>\n",
       "      <td>5.971390e-01</td>\n",
       "      <td>...</td>\n",
       "      <td>1.863772e-01</td>\n",
       "      <td>5.285536e-01</td>\n",
       "      <td>1.476421e-01</td>\n",
       "      <td>4.395266e-01</td>\n",
       "      <td>3.507156e-01</td>\n",
       "      <td>2.409522e-01</td>\n",
       "      <td>9.104512e-02</td>\n",
       "      <td>7.827995e-02</td>\n",
       "      <td>77.165000</td>\n",
       "      <td>0.000000</td>\n",
       "    </tr>\n",
       "    <tr>\n",
       "      <th>max</th>\n",
       "      <td>172792.000000</td>\n",
       "      <td>2.454930e+00</td>\n",
       "      <td>2.205773e+01</td>\n",
       "      <td>9.382558e+00</td>\n",
       "      <td>1.687534e+01</td>\n",
       "      <td>3.480167e+01</td>\n",
       "      <td>7.330163e+01</td>\n",
       "      <td>1.205895e+02</td>\n",
       "      <td>2.000721e+01</td>\n",
       "      <td>1.559499e+01</td>\n",
       "      <td>...</td>\n",
       "      <td>2.720284e+01</td>\n",
       "      <td>1.050309e+01</td>\n",
       "      <td>2.252841e+01</td>\n",
       "      <td>4.584549e+00</td>\n",
       "      <td>7.519589e+00</td>\n",
       "      <td>3.517346e+00</td>\n",
       "      <td>3.161220e+01</td>\n",
       "      <td>3.384781e+01</td>\n",
       "      <td>25691.160000</td>\n",
       "      <td>1.000000</td>\n",
       "    </tr>\n",
       "  </tbody>\n",
       "</table>\n",
       "<p>8 rows × 31 columns</p>\n",
       "</div>"
      ],
      "text/plain": [
       "                Time            V1            V2            V3            V4  \\\n",
       "count  284807.000000  2.848070e+05  2.848070e+05  2.848070e+05  2.848070e+05   \n",
       "mean    94813.859575  3.919560e-15  5.688174e-16 -8.769071e-15  2.782312e-15   \n",
       "std     47488.145955  1.958696e+00  1.651309e+00  1.516255e+00  1.415869e+00   \n",
       "min         0.000000 -5.640751e+01 -7.271573e+01 -4.832559e+01 -5.683171e+00   \n",
       "25%     54201.500000 -9.203734e-01 -5.985499e-01 -8.903648e-01 -8.486401e-01   \n",
       "50%     84692.000000  1.810880e-02  6.548556e-02  1.798463e-01 -1.984653e-02   \n",
       "75%    139320.500000  1.315642e+00  8.037239e-01  1.027196e+00  7.433413e-01   \n",
       "max    172792.000000  2.454930e+00  2.205773e+01  9.382558e+00  1.687534e+01   \n",
       "\n",
       "                 V5            V6            V7            V8            V9  \\\n",
       "count  2.848070e+05  2.848070e+05  2.848070e+05  2.848070e+05  2.848070e+05   \n",
       "mean  -1.552563e-15  2.010663e-15 -1.694249e-15 -1.927028e-16 -3.137024e-15   \n",
       "std    1.380247e+00  1.332271e+00  1.237094e+00  1.194353e+00  1.098632e+00   \n",
       "min   -1.137433e+02 -2.616051e+01 -4.355724e+01 -7.321672e+01 -1.343407e+01   \n",
       "25%   -6.915971e-01 -7.682956e-01 -5.540759e-01 -2.086297e-01 -6.430976e-01   \n",
       "50%   -5.433583e-02 -2.741871e-01  4.010308e-02  2.235804e-02 -5.142873e-02   \n",
       "75%    6.119264e-01  3.985649e-01  5.704361e-01  3.273459e-01  5.971390e-01   \n",
       "max    3.480167e+01  7.330163e+01  1.205895e+02  2.000721e+01  1.559499e+01   \n",
       "\n",
       "       ...           V21           V22           V23           V24  \\\n",
       "count  ...  2.848070e+05  2.848070e+05  2.848070e+05  2.848070e+05   \n",
       "mean   ...  1.537294e-16  7.959909e-16  5.367590e-16  4.458112e-15   \n",
       "std    ...  7.345240e-01  7.257016e-01  6.244603e-01  6.056471e-01   \n",
       "min    ... -3.483038e+01 -1.093314e+01 -4.480774e+01 -2.836627e+00   \n",
       "25%    ... -2.283949e-01 -5.423504e-01 -1.618463e-01 -3.545861e-01   \n",
       "50%    ... -2.945017e-02  6.781943e-03 -1.119293e-02  4.097606e-02   \n",
       "75%    ...  1.863772e-01  5.285536e-01  1.476421e-01  4.395266e-01   \n",
       "max    ...  2.720284e+01  1.050309e+01  2.252841e+01  4.584549e+00   \n",
       "\n",
       "                V25           V26           V27           V28         Amount  \\\n",
       "count  2.848070e+05  2.848070e+05  2.848070e+05  2.848070e+05  284807.000000   \n",
       "mean   1.453003e-15  1.699104e-15 -3.660161e-16 -1.206049e-16      88.349619   \n",
       "std    5.212781e-01  4.822270e-01  4.036325e-01  3.300833e-01     250.120109   \n",
       "min   -1.029540e+01 -2.604551e+00 -2.256568e+01 -1.543008e+01       0.000000   \n",
       "25%   -3.171451e-01 -3.269839e-01 -7.083953e-02 -5.295979e-02       5.600000   \n",
       "50%    1.659350e-02 -5.213911e-02  1.342146e-03  1.124383e-02      22.000000   \n",
       "75%    3.507156e-01  2.409522e-01  9.104512e-02  7.827995e-02      77.165000   \n",
       "max    7.519589e+00  3.517346e+00  3.161220e+01  3.384781e+01   25691.160000   \n",
       "\n",
       "               Class  \n",
       "count  284807.000000  \n",
       "mean        0.001727  \n",
       "std         0.041527  \n",
       "min         0.000000  \n",
       "25%         0.000000  \n",
       "50%         0.000000  \n",
       "75%         0.000000  \n",
       "max         1.000000  \n",
       "\n",
       "[8 rows x 31 columns]"
      ]
     },
     "execution_count": 6,
     "metadata": {},
     "output_type": "execute_result"
    }
   ],
   "source": [
    "data.describe()"
   ]
  },
  {
   "cell_type": "markdown",
   "metadata": {},
   "source": [
    "As you notice, the variable ‘Amount’ ranges from 0 to 25,691.16. To reduce its wide range, we use Standardization to remove the mean and scale to unit variance, so that 68% of the values lie in between (-1, 1)."
   ]
  },
  {
   "cell_type": "code",
   "execution_count": 7,
   "metadata": {},
   "outputs": [
    {
     "data": {
      "text/plain": [
       "0    284315\n",
       "1       492\n",
       "Name: Class, dtype: int64"
      ]
     },
     "execution_count": 7,
     "metadata": {},
     "output_type": "execute_result"
    }
   ],
   "source": [
    "data['Class'].value_counts()"
   ]
  },
  {
   "cell_type": "code",
   "execution_count": 8,
   "metadata": {},
   "outputs": [
    {
     "data": {
      "image/png": "[encoded data removed]",
      "text/plain": [
       "<Figure size 864x576 with 1 Axes>"
      ]
     },
     "metadata": {
      "needs_background": "light"
     },
     "output_type": "display_data"
    },
    {
     "data": {
      "text/plain": [
       "<matplotlib.axes._subplots.AxesSubplot at 0x27aa75db850>"
      ]
     },
     "execution_count": 8,
     "metadata": {},
     "output_type": "execute_result"
    },
    {
     "data": {
      "image/png": "[encoded data removed]",
      "text/plain": [
       "<Figure size 864x576 with 1 Axes>"
      ]
     },
     "metadata": {},
     "output_type": "display_data"
    }
   ],
   "source": [
    "#visualizations of time and amount\n",
    "plt.figure(figsize=(12,8))\n",
    "sns.set_style('whitegrid')\n",
    "plt.title('Distribution of Time Feature')\n",
    "sns.distplot(data.Time)\n",
    "plt.show()\n",
    "plt.figure(figsize=(12,8))\n",
    "plt.title('Distribution of Monetary Value Feature')\n",
    "sns.distplot(data.Amount)"
   ]
  },
  {
   "cell_type": "code",
   "execution_count": 9,
   "metadata": {},
   "outputs": [
    {
     "name": "stdout",
     "output_type": "stream",
     "text": [
      "Fraud Cases: 492\n",
      "Valid Transactions: 284315\n"
     ]
    }
   ],
   "source": [
    "# Determine number of fraud cases in dataset \n",
    "fraud = data[data['Class'] == 1] \n",
    "valid = data[data['Class'] == 0]  \n",
    "print('Fraud Cases: {}'.format(len(data[data['Class'] == 1]))) \n",
    "print('Valid Transactions: {}'.format(len(data[data['Class'] == 0]))) "
   ]
  },
  {
   "cell_type": "code",
   "execution_count": 10,
   "metadata": {},
   "outputs": [],
   "source": [
    "# only 0.17% transcations are fraud so data are highly Unbalanced. Let's first apply our model without balancing it\n",
    "# and if we don't get good accuracy then we can find a way to balance this dataset only if needed. "
   ]
  },
  {
   "cell_type": "code",
   "execution_count": 11,
   "metadata": {},
   "outputs": [
    {
     "data": {
      "image/png": "[encoded data removed]",
      "text/plain": [
       "<Figure size 576x432 with 1 Axes>"
      ]
     },
     "metadata": {},
     "output_type": "display_data"
    }
   ],
   "source": [
    "counts = data.Class.value_counts()\n",
    "plt.figure(figsize=(8,6))\n",
    "sns.barplot(x=counts.index,y=counts)\n",
    "plt.title('Count of Fraudulent vs. Non-Fraudulent Transactions')\n",
    "plt.ylabel('Count')\n",
    "plt.xlabel('Class (0:Non-Fraudulent, 1:Fraudulent)')\n",
    "plt.show()"
   ]
  },
  {
   "cell_type": "code",
   "execution_count": 12,
   "metadata": {
    "scrolled": true
   },
   "outputs": [
    {
     "data": {
      "image/png": "[encoded data removed]",
      "text/plain": [
       "<Figure size 1440x648 with 2 Axes>"
      ]
     },
     "metadata": {},
     "output_type": "display_data"
    }
   ],
   "source": [
    "# correlation matrix\n",
    "corrmat = data.corr()\n",
    "fig = plt.figure(figsize=(20,9))\n",
    "sns.heatmap(corrmat, vmax = .8, square = True) \n",
    "plt.show()"
   ]
  },
  {
   "cell_type": "code",
   "execution_count": 13,
   "metadata": {},
   "outputs": [
    {
     "data": {
      "text/plain": [
       "Time      -0.035568\n",
       "V1        -3.280667\n",
       "V2        -4.624866\n",
       "V3        -2.240155\n",
       "V4         0.676292\n",
       "V5        -2.425901\n",
       "V6         1.826581\n",
       "V7         2.553907\n",
       "V8        -8.521944\n",
       "V9         0.554680\n",
       "V10        1.187141\n",
       "V11        0.356506\n",
       "V12       -2.278401\n",
       "V13        0.065233\n",
       "V14       -1.995176\n",
       "V15       -0.308423\n",
       "V16       -1.100966\n",
       "V17       -3.844914\n",
       "V18       -0.259880\n",
       "V19        0.109192\n",
       "V20       -2.037155\n",
       "V21        3.592991\n",
       "V22       -0.213258\n",
       "V23       -5.875140\n",
       "V24       -0.552499\n",
       "V25       -0.415793\n",
       "V26        0.576693\n",
       "V27       -1.170209\n",
       "V28       11.192091\n",
       "Amount    16.977724\n",
       "Class     23.997579\n",
       "dtype: float64"
      ]
     },
     "execution_count": 13,
     "metadata": {},
     "output_type": "execute_result"
    }
   ],
   "source": [
    "skew_ = data.skew()\n",
    "skew_"
   ]
  },
  {
   "cell_type": "code",
   "execution_count": 14,
   "metadata": {},
   "outputs": [],
   "source": [
    "from sklearn.preprocessing import StandardScaler\n",
    "scaler = StandardScaler()\n",
    "scaler2 = StandardScaler()\n",
    "#scaling time\n",
    "scaled_time = scaler.fit_transform(data[['Time']])\n",
    "flat_list1 = [item for sublist in scaled_time.tolist() for item in sublist]\n",
    "scaled_time = pd.Series(flat_list1)"
   ]
  },
  {
   "cell_type": "code",
   "execution_count": 15,
   "metadata": {},
   "outputs": [],
   "source": [
    "#scaling the amount column\n",
    "scaled_amount = scaler2.fit_transform(data[['Amount']])\n",
    "flat_list2 = [item for sublist in scaled_amount.tolist() for item in sublist]\n",
    "scaled_amount = pd.Series(flat_list2)"
   ]
  },
  {
   "cell_type": "code",
   "execution_count": 16,
   "metadata": {},
   "outputs": [
    {
     "data": {
      "text/html": [
       "<div>\n",
       "<style scoped>\n",
       "    .dataframe tbody tr th:only-of-type {\n",
       "        vertical-align: middle;\n",
       "    }\n",
       "\n",
       "    .dataframe tbody tr th {\n",
       "        vertical-align: top;\n",
       "    }\n",
       "\n",
       "    .dataframe thead th {\n",
       "        text-align: right;\n",
       "    }\n",
       "</style>\n",
       "<table border=\"1\" class=\"dataframe\">\n",
       "  <thead>\n",
       "    <tr style=\"text-align: right;\">\n",
       "      <th></th>\n",
       "      <th>Time</th>\n",
       "      <th>V1</th>\n",
       "      <th>V2</th>\n",
       "      <th>V3</th>\n",
       "      <th>V4</th>\n",
       "      <th>V5</th>\n",
       "      <th>V6</th>\n",
       "      <th>V7</th>\n",
       "      <th>V8</th>\n",
       "      <th>V9</th>\n",
       "      <th>...</th>\n",
       "      <th>V23</th>\n",
       "      <th>V24</th>\n",
       "      <th>V25</th>\n",
       "      <th>V26</th>\n",
       "      <th>V27</th>\n",
       "      <th>V28</th>\n",
       "      <th>Amount</th>\n",
       "      <th>Class</th>\n",
       "      <th>scaled_amount</th>\n",
       "      <th>scaled_time</th>\n",
       "    </tr>\n",
       "  </thead>\n",
       "  <tbody>\n",
       "    <tr>\n",
       "      <th>0</th>\n",
       "      <td>0.0</td>\n",
       "      <td>-1.359807</td>\n",
       "      <td>-0.072781</td>\n",
       "      <td>2.536347</td>\n",
       "      <td>1.378155</td>\n",
       "      <td>-0.338321</td>\n",
       "      <td>0.462388</td>\n",
       "      <td>0.239599</td>\n",
       "      <td>0.098698</td>\n",
       "      <td>0.363787</td>\n",
       "      <td>...</td>\n",
       "      <td>-0.110474</td>\n",
       "      <td>0.066928</td>\n",
       "      <td>0.128539</td>\n",
       "      <td>-0.189115</td>\n",
       "      <td>0.133558</td>\n",
       "      <td>-0.021053</td>\n",
       "      <td>149.62</td>\n",
       "      <td>0</td>\n",
       "      <td>0.244964</td>\n",
       "      <td>-1.996583</td>\n",
       "    </tr>\n",
       "    <tr>\n",
       "      <th>1</th>\n",
       "      <td>0.0</td>\n",
       "      <td>1.191857</td>\n",
       "      <td>0.266151</td>\n",
       "      <td>0.166480</td>\n",
       "      <td>0.448154</td>\n",
       "      <td>0.060018</td>\n",
       "      <td>-0.082361</td>\n",
       "      <td>-0.078803</td>\n",
       "      <td>0.085102</td>\n",
       "      <td>-0.255425</td>\n",
       "      <td>...</td>\n",
       "      <td>0.101288</td>\n",
       "      <td>-0.339846</td>\n",
       "      <td>0.167170</td>\n",
       "      <td>0.125895</td>\n",
       "      <td>-0.008983</td>\n",
       "      <td>0.014724</td>\n",
       "      <td>2.69</td>\n",
       "      <td>0</td>\n",
       "      <td>-0.342475</td>\n",
       "      <td>-1.996583</td>\n",
       "    </tr>\n",
       "    <tr>\n",
       "      <th>2</th>\n",
       "      <td>1.0</td>\n",
       "      <td>-1.358354</td>\n",
       "      <td>-1.340163</td>\n",
       "      <td>1.773209</td>\n",
       "      <td>0.379780</td>\n",
       "      <td>-0.503198</td>\n",
       "      <td>1.800499</td>\n",
       "      <td>0.791461</td>\n",
       "      <td>0.247676</td>\n",
       "      <td>-1.514654</td>\n",
       "      <td>...</td>\n",
       "      <td>0.909412</td>\n",
       "      <td>-0.689281</td>\n",
       "      <td>-0.327642</td>\n",
       "      <td>-0.139097</td>\n",
       "      <td>-0.055353</td>\n",
       "      <td>-0.059752</td>\n",
       "      <td>378.66</td>\n",
       "      <td>0</td>\n",
       "      <td>1.160686</td>\n",
       "      <td>-1.996562</td>\n",
       "    </tr>\n",
       "    <tr>\n",
       "      <th>3</th>\n",
       "      <td>1.0</td>\n",
       "      <td>-0.966272</td>\n",
       "      <td>-0.185226</td>\n",
       "      <td>1.792993</td>\n",
       "      <td>-0.863291</td>\n",
       "      <td>-0.010309</td>\n",
       "      <td>1.247203</td>\n",
       "      <td>0.237609</td>\n",
       "      <td>0.377436</td>\n",
       "      <td>-1.387024</td>\n",
       "      <td>...</td>\n",
       "      <td>-0.190321</td>\n",
       "      <td>-1.175575</td>\n",
       "      <td>0.647376</td>\n",
       "      <td>-0.221929</td>\n",
       "      <td>0.062723</td>\n",
       "      <td>0.061458</td>\n",
       "      <td>123.50</td>\n",
       "      <td>0</td>\n",
       "      <td>0.140534</td>\n",
       "      <td>-1.996562</td>\n",
       "    </tr>\n",
       "    <tr>\n",
       "      <th>4</th>\n",
       "      <td>2.0</td>\n",
       "      <td>-1.158233</td>\n",
       "      <td>0.877737</td>\n",
       "      <td>1.548718</td>\n",
       "      <td>0.403034</td>\n",
       "      <td>-0.407193</td>\n",
       "      <td>0.095921</td>\n",
       "      <td>0.592941</td>\n",
       "      <td>-0.270533</td>\n",
       "      <td>0.817739</td>\n",
       "      <td>...</td>\n",
       "      <td>-0.137458</td>\n",
       "      <td>0.141267</td>\n",
       "      <td>-0.206010</td>\n",
       "      <td>0.502292</td>\n",
       "      <td>0.219422</td>\n",
       "      <td>0.215153</td>\n",
       "      <td>69.99</td>\n",
       "      <td>0</td>\n",
       "      <td>-0.073403</td>\n",
       "      <td>-1.996541</td>\n",
       "    </tr>\n",
       "  </tbody>\n",
       "</table>\n",
       "<p>5 rows × 33 columns</p>\n",
       "</div>"
      ],
      "text/plain": [
       "   Time        V1        V2        V3        V4        V5        V6        V7  \\\n",
       "0   0.0 -1.359807 -0.072781  2.536347  1.378155 -0.338321  0.462388  0.239599   \n",
       "1   0.0  1.191857  0.266151  0.166480  0.448154  0.060018 -0.082361 -0.078803   \n",
       "2   1.0 -1.358354 -1.340163  1.773209  0.379780 -0.503198  1.800499  0.791461   \n",
       "3   1.0 -0.966272 -0.185226  1.792993 -0.863291 -0.010309  1.247203  0.237609   \n",
       "4   2.0 -1.158233  0.877737  1.548718  0.403034 -0.407193  0.095921  0.592941   \n",
       "\n",
       "         V8        V9  ...       V23       V24       V25       V26       V27  \\\n",
       "0  0.098698  0.363787  ... -0.110474  0.066928  0.128539 -0.189115  0.133558   \n",
       "1  0.085102 -0.255425  ...  0.101288 -0.339846  0.167170  0.125895 -0.008983   \n",
       "2  0.247676 -1.514654  ...  0.909412 -0.689281 -0.327642 -0.139097 -0.055353   \n",
       "3  0.377436 -1.387024  ... -0.190321 -1.175575  0.647376 -0.221929  0.062723   \n",
       "4 -0.270533  0.817739  ... -0.137458  0.141267 -0.206010  0.502292  0.219422   \n",
       "\n",
       "        V28  Amount  Class  scaled_amount  scaled_time  \n",
       "0 -0.021053  149.62      0       0.244964    -1.996583  \n",
       "1  0.014724    2.69      0      -0.342475    -1.996583  \n",
       "2 -0.059752  378.66      0       1.160686    -1.996562  \n",
       "3  0.061458  123.50      0       0.140534    -1.996562  \n",
       "4  0.215153   69.99      0      -0.073403    -1.996541  \n",
       "\n",
       "[5 rows x 33 columns]"
      ]
     },
     "execution_count": 16,
     "metadata": {},
     "output_type": "execute_result"
    }
   ],
   "source": [
    "#concatenating newly created columns w original df\n",
    "df = pd.concat([data, scaled_amount.rename('scaled_amount'), scaled_time.rename('scaled_time')], axis=1)\n",
    "df.head(5)"
   ]
  },
  {
   "cell_type": "markdown",
   "metadata": {},
   "source": [
    "### dropping time from training dataset"
   ]
  },
  {
   "cell_type": "code",
   "execution_count": 17,
   "metadata": {},
   "outputs": [],
   "source": [
    "#dropping old amount and time columns\n",
    "df.drop(['Amount', 'Time'], axis=1, inplace=True)"
   ]
  },
  {
   "cell_type": "code",
   "execution_count": 18,
   "metadata": {},
   "outputs": [
    {
     "name": "stdout",
     "output_type": "stream",
     "text": [
      "Train Shape: (256061, 31)\n",
      "Test Shape: (28746, 31)\n"
     ]
    }
   ],
   "source": [
    "# manual train test split using numpy's random.rand\n",
    "array = np.random.rand(len(df)) < 0.9\n",
    "train = df[array]\n",
    "test = df[~array]\n",
    "print('Train Shape: {}\\nTest Shape: {}'.format(train.shape, test.shape))"
   ]
  },
  {
   "cell_type": "code",
   "execution_count": 19,
   "metadata": {},
   "outputs": [],
   "source": [
    "train.reset_index(drop=True, inplace=True)\n",
    "test.reset_index(drop=True, inplace=True)"
   ]
  },
  {
   "cell_type": "markdown",
   "metadata": {},
   "source": [
    "#### Creating a subsample data set with balanced class distributions"
   ]
  },
  {
   "cell_type": "code",
   "execution_count": 20,
   "metadata": {},
   "outputs": [
    {
     "name": "stdout",
     "output_type": "stream",
     "text": [
      "There are 450 fraudulent transactions in the train data.\n"
     ]
    }
   ],
   "source": [
    "#how many random samples from normal transactions do we need?\n",
    "no_of_frauds = train.Class.value_counts()[1]\n",
    "print('There are {} fraudulent transactions in the train data.'.format(no_of_frauds))"
   ]
  },
  {
   "cell_type": "code",
   "execution_count": 21,
   "metadata": {},
   "outputs": [],
   "source": [
    "#randomly selecting 442 random non-fraudulent transactions\n",
    "non_fraud = train[train['Class'] == 0]\n",
    "fraud = train[train['Class'] == 1]"
   ]
  },
  {
   "cell_type": "code",
   "execution_count": 22,
   "metadata": {},
   "outputs": [
    {
     "data": {
      "text/html": [
       "<div>\n",
       "<style scoped>\n",
       "    .dataframe tbody tr th:only-of-type {\n",
       "        vertical-align: middle;\n",
       "    }\n",
       "\n",
       "    .dataframe tbody tr th {\n",
       "        vertical-align: top;\n",
       "    }\n",
       "\n",
       "    .dataframe thead th {\n",
       "        text-align: right;\n",
       "    }\n",
       "</style>\n",
       "<table border=\"1\" class=\"dataframe\">\n",
       "  <thead>\n",
       "    <tr style=\"text-align: right;\">\n",
       "      <th></th>\n",
       "      <th>V1</th>\n",
       "      <th>V2</th>\n",
       "      <th>V3</th>\n",
       "      <th>V4</th>\n",
       "      <th>V5</th>\n",
       "      <th>V6</th>\n",
       "      <th>V7</th>\n",
       "      <th>V8</th>\n",
       "      <th>V9</th>\n",
       "      <th>V10</th>\n",
       "      <th>...</th>\n",
       "      <th>V22</th>\n",
       "      <th>V23</th>\n",
       "      <th>V24</th>\n",
       "      <th>V25</th>\n",
       "      <th>V26</th>\n",
       "      <th>V27</th>\n",
       "      <th>V28</th>\n",
       "      <th>Class</th>\n",
       "      <th>scaled_amount</th>\n",
       "      <th>scaled_time</th>\n",
       "    </tr>\n",
       "  </thead>\n",
       "  <tbody>\n",
       "    <tr>\n",
       "      <th>188092</th>\n",
       "      <td>0.185048</td>\n",
       "      <td>1.754086</td>\n",
       "      <td>-2.762519</td>\n",
       "      <td>-0.192150</td>\n",
       "      <td>1.559936</td>\n",
       "      <td>-1.597243</td>\n",
       "      <td>1.192533</td>\n",
       "      <td>0.039169</td>\n",
       "      <td>-0.545610</td>\n",
       "      <td>-1.598191</td>\n",
       "      <td>...</td>\n",
       "      <td>0.231872</td>\n",
       "      <td>-0.108688</td>\n",
       "      <td>0.404916</td>\n",
       "      <td>-0.187219</td>\n",
       "      <td>0.541413</td>\n",
       "      <td>0.117099</td>\n",
       "      <td>0.054282</td>\n",
       "      <td>0</td>\n",
       "      <td>-0.350191</td>\n",
       "      <td>0.897218</td>\n",
       "    </tr>\n",
       "    <tr>\n",
       "      <th>221744</th>\n",
       "      <td>2.209316</td>\n",
       "      <td>-0.500057</td>\n",
       "      <td>-1.576015</td>\n",
       "      <td>-0.306806</td>\n",
       "      <td>-0.343861</td>\n",
       "      <td>-1.384334</td>\n",
       "      <td>0.085565</td>\n",
       "      <td>-0.488657</td>\n",
       "      <td>-0.661078</td>\n",
       "      <td>0.903663</td>\n",
       "      <td>...</td>\n",
       "      <td>-0.466305</td>\n",
       "      <td>0.167597</td>\n",
       "      <td>0.071701</td>\n",
       "      <td>0.044474</td>\n",
       "      <td>0.674155</td>\n",
       "      <td>-0.078706</td>\n",
       "      <td>-0.074028</td>\n",
       "      <td>0</td>\n",
       "      <td>-0.342075</td>\n",
       "      <td>1.229659</td>\n",
       "    </tr>\n",
       "    <tr>\n",
       "      <th>125332</th>\n",
       "      <td>-0.688484</td>\n",
       "      <td>0.221793</td>\n",
       "      <td>0.905957</td>\n",
       "      <td>-3.132575</td>\n",
       "      <td>2.041943</td>\n",
       "      <td>3.517382</td>\n",
       "      <td>-0.090434</td>\n",
       "      <td>0.882966</td>\n",
       "      <td>1.267209</td>\n",
       "      <td>-1.404559</td>\n",
       "      <td>...</td>\n",
       "      <td>-0.040696</td>\n",
       "      <td>-0.438283</td>\n",
       "      <td>1.003612</td>\n",
       "      <td>0.706922</td>\n",
       "      <td>-0.770105</td>\n",
       "      <td>0.193329</td>\n",
       "      <td>-0.091838</td>\n",
       "      <td>0</td>\n",
       "      <td>-0.349231</td>\n",
       "      <td>-0.246880</td>\n",
       "    </tr>\n",
       "    <tr>\n",
       "      <th>200719</th>\n",
       "      <td>2.065700</td>\n",
       "      <td>-1.210286</td>\n",
       "      <td>-2.153711</td>\n",
       "      <td>-2.810246</td>\n",
       "      <td>-0.404934</td>\n",
       "      <td>-1.340640</td>\n",
       "      <td>0.078728</td>\n",
       "      <td>-0.469584</td>\n",
       "      <td>0.422183</td>\n",
       "      <td>-0.271165</td>\n",
       "      <td>...</td>\n",
       "      <td>0.144365</td>\n",
       "      <td>-0.095174</td>\n",
       "      <td>-0.439447</td>\n",
       "      <td>0.362380</td>\n",
       "      <td>-0.701416</td>\n",
       "      <td>0.022874</td>\n",
       "      <td>-0.054999</td>\n",
       "      <td>0</td>\n",
       "      <td>0.040822</td>\n",
       "      <td>1.020533</td>\n",
       "    </tr>\n",
       "    <tr>\n",
       "      <th>51224</th>\n",
       "      <td>0.799781</td>\n",
       "      <td>-0.686005</td>\n",
       "      <td>0.876798</td>\n",
       "      <td>1.110119</td>\n",
       "      <td>-1.053468</td>\n",
       "      <td>0.098455</td>\n",
       "      <td>-0.511756</td>\n",
       "      <td>0.242956</td>\n",
       "      <td>0.528842</td>\n",
       "      <td>0.074786</td>\n",
       "      <td>...</td>\n",
       "      <td>0.223074</td>\n",
       "      <td>-0.213972</td>\n",
       "      <td>-0.031085</td>\n",
       "      <td>0.243136</td>\n",
       "      <td>-0.374796</td>\n",
       "      <td>0.015852</td>\n",
       "      <td>0.056336</td>\n",
       "      <td>0</td>\n",
       "      <td>0.414403</td>\n",
       "      <td>-0.993510</td>\n",
       "    </tr>\n",
       "  </tbody>\n",
       "</table>\n",
       "<p>5 rows × 31 columns</p>\n",
       "</div>"
      ],
      "text/plain": [
       "              V1        V2        V3        V4        V5        V6        V7  \\\n",
       "188092  0.185048  1.754086 -2.762519 -0.192150  1.559936 -1.597243  1.192533   \n",
       "221744  2.209316 -0.500057 -1.576015 -0.306806 -0.343861 -1.384334  0.085565   \n",
       "125332 -0.688484  0.221793  0.905957 -3.132575  2.041943  3.517382 -0.090434   \n",
       "200719  2.065700 -1.210286 -2.153711 -2.810246 -0.404934 -1.340640  0.078728   \n",
       "51224   0.799781 -0.686005  0.876798  1.110119 -1.053468  0.098455 -0.511756   \n",
       "\n",
       "              V8        V9       V10  ...       V22       V23       V24  \\\n",
       "188092  0.039169 -0.545610 -1.598191  ...  0.231872 -0.108688  0.404916   \n",
       "221744 -0.488657 -0.661078  0.903663  ... -0.466305  0.167597  0.071701   \n",
       "125332  0.882966  1.267209 -1.404559  ... -0.040696 -0.438283  1.003612   \n",
       "200719 -0.469584  0.422183 -0.271165  ...  0.144365 -0.095174 -0.439447   \n",
       "51224   0.242956  0.528842  0.074786  ...  0.223074 -0.213972 -0.031085   \n",
       "\n",
       "             V25       V26       V27       V28  Class  scaled_amount  \\\n",
       "188092 -0.187219  0.541413  0.117099  0.054282      0      -0.350191   \n",
       "221744  0.044474  0.674155 -0.078706 -0.074028      0      -0.342075   \n",
       "125332  0.706922 -0.770105  0.193329 -0.091838      0      -0.349231   \n",
       "200719  0.362380 -0.701416  0.022874 -0.054999      0       0.040822   \n",
       "51224   0.243136 -0.374796  0.015852  0.056336      0       0.414403   \n",
       "\n",
       "        scaled_time  \n",
       "188092     0.897218  \n",
       "221744     1.229659  \n",
       "125332    -0.246880  \n",
       "200719     1.020533  \n",
       "51224     -0.993510  \n",
       "\n",
       "[5 rows x 31 columns]"
      ]
     },
     "execution_count": 22,
     "metadata": {},
     "output_type": "execute_result"
    }
   ],
   "source": [
    "selected = non_fraud.sample(no_of_frauds)\n",
    "selected.head()"
   ]
  },
  {
   "cell_type": "code",
   "execution_count": 23,
   "metadata": {},
   "outputs": [],
   "source": [
    "#concatenating both into a subsample data set with equal class distribution\n",
    "selected.reset_index(drop=True, inplace=True)\n",
    "fraud.reset_index(drop=True, inplace=True)"
   ]
  },
  {
   "cell_type": "code",
   "execution_count": 24,
   "metadata": {},
   "outputs": [
    {
     "data": {
      "text/plain": [
       "900"
      ]
     },
     "execution_count": 24,
     "metadata": {},
     "output_type": "execute_result"
    }
   ],
   "source": [
    "subsample = pd.concat([selected, fraud])\n",
    "len(subsample)"
   ]
  },
  {
   "cell_type": "code",
   "execution_count": 25,
   "metadata": {},
   "outputs": [
    {
     "data": {
      "text/html": [
       "<div>\n",
       "<style scoped>\n",
       "    .dataframe tbody tr th:only-of-type {\n",
       "        vertical-align: middle;\n",
       "    }\n",
       "\n",
       "    .dataframe tbody tr th {\n",
       "        vertical-align: top;\n",
       "    }\n",
       "\n",
       "    .dataframe thead th {\n",
       "        text-align: right;\n",
       "    }\n",
       "</style>\n",
       "<table border=\"1\" class=\"dataframe\">\n",
       "  <thead>\n",
       "    <tr style=\"text-align: right;\">\n",
       "      <th></th>\n",
       "      <th>V1</th>\n",
       "      <th>V2</th>\n",
       "      <th>V3</th>\n",
       "      <th>V4</th>\n",
       "      <th>V5</th>\n",
       "      <th>V6</th>\n",
       "      <th>V7</th>\n",
       "      <th>V8</th>\n",
       "      <th>V9</th>\n",
       "      <th>V10</th>\n",
       "      <th>...</th>\n",
       "      <th>V22</th>\n",
       "      <th>V23</th>\n",
       "      <th>V24</th>\n",
       "      <th>V25</th>\n",
       "      <th>V26</th>\n",
       "      <th>V27</th>\n",
       "      <th>V28</th>\n",
       "      <th>Class</th>\n",
       "      <th>scaled_amount</th>\n",
       "      <th>scaled_time</th>\n",
       "    </tr>\n",
       "  </thead>\n",
       "  <tbody>\n",
       "    <tr>\n",
       "      <th>0</th>\n",
       "      <td>-0.782845</td>\n",
       "      <td>0.368745</td>\n",
       "      <td>2.491474</td>\n",
       "      <td>1.601648</td>\n",
       "      <td>-0.417058</td>\n",
       "      <td>1.017225</td>\n",
       "      <td>0.366164</td>\n",
       "      <td>0.020070</td>\n",
       "      <td>0.037205</td>\n",
       "      <td>0.038884</td>\n",
       "      <td>...</td>\n",
       "      <td>0.822213</td>\n",
       "      <td>-0.074362</td>\n",
       "      <td>-0.260301</td>\n",
       "      <td>0.212852</td>\n",
       "      <td>0.066400</td>\n",
       "      <td>-0.051980</td>\n",
       "      <td>-0.187419</td>\n",
       "      <td>0</td>\n",
       "      <td>0.042581</td>\n",
       "      <td>-1.440443</td>\n",
       "    </tr>\n",
       "    <tr>\n",
       "      <th>1</th>\n",
       "      <td>1.183703</td>\n",
       "      <td>0.306221</td>\n",
       "      <td>0.264077</td>\n",
       "      <td>1.073882</td>\n",
       "      <td>-0.070720</td>\n",
       "      <td>-0.488475</td>\n",
       "      <td>0.169703</td>\n",
       "      <td>-0.111308</td>\n",
       "      <td>-0.060025</td>\n",
       "      <td>-0.040701</td>\n",
       "      <td>...</td>\n",
       "      <td>0.256815</td>\n",
       "      <td>-0.080445</td>\n",
       "      <td>0.093816</td>\n",
       "      <td>0.619853</td>\n",
       "      <td>-0.300535</td>\n",
       "      <td>0.030134</td>\n",
       "      <td>0.019082</td>\n",
       "      <td>0</td>\n",
       "      <td>-0.299295</td>\n",
       "      <td>-0.609392</td>\n",
       "    </tr>\n",
       "    <tr>\n",
       "      <th>2</th>\n",
       "      <td>-17.976266</td>\n",
       "      <td>12.864989</td>\n",
       "      <td>-19.575066</td>\n",
       "      <td>11.345120</td>\n",
       "      <td>-13.998646</td>\n",
       "      <td>-0.354900</td>\n",
       "      <td>-23.783470</td>\n",
       "      <td>-4.872353</td>\n",
       "      <td>-8.504285</td>\n",
       "      <td>-16.601197</td>\n",
       "      <td>...</td>\n",
       "      <td>2.865772</td>\n",
       "      <td>1.489302</td>\n",
       "      <td>0.386039</td>\n",
       "      <td>-0.232392</td>\n",
       "      <td>0.413827</td>\n",
       "      <td>-3.255981</td>\n",
       "      <td>-0.538963</td>\n",
       "      <td>1</td>\n",
       "      <td>-0.318686</td>\n",
       "      <td>0.048584</td>\n",
       "    </tr>\n",
       "    <tr>\n",
       "      <th>3</th>\n",
       "      <td>-1.572200</td>\n",
       "      <td>-0.701301</td>\n",
       "      <td>0.511534</td>\n",
       "      <td>-0.862446</td>\n",
       "      <td>0.263180</td>\n",
       "      <td>-0.262617</td>\n",
       "      <td>-0.341091</td>\n",
       "      <td>0.518395</td>\n",
       "      <td>-1.389271</td>\n",
       "      <td>0.053214</td>\n",
       "      <td>...</td>\n",
       "      <td>-0.355081</td>\n",
       "      <td>-0.108576</td>\n",
       "      <td>-0.266942</td>\n",
       "      <td>-0.672116</td>\n",
       "      <td>0.078107</td>\n",
       "      <td>-0.004930</td>\n",
       "      <td>-0.035108</td>\n",
       "      <td>0</td>\n",
       "      <td>-0.129337</td>\n",
       "      <td>-0.597705</td>\n",
       "    </tr>\n",
       "    <tr>\n",
       "      <th>4</th>\n",
       "      <td>-1.452337</td>\n",
       "      <td>-0.466853</td>\n",
       "      <td>-0.555007</td>\n",
       "      <td>-3.355574</td>\n",
       "      <td>2.117199</td>\n",
       "      <td>3.431942</td>\n",
       "      <td>-0.538528</td>\n",
       "      <td>1.577375</td>\n",
       "      <td>0.787465</td>\n",
       "      <td>-1.671112</td>\n",
       "      <td>...</td>\n",
       "      <td>0.572263</td>\n",
       "      <td>0.028159</td>\n",
       "      <td>0.761226</td>\n",
       "      <td>-0.097191</td>\n",
       "      <td>0.546707</td>\n",
       "      <td>0.198838</td>\n",
       "      <td>0.055341</td>\n",
       "      <td>0</td>\n",
       "      <td>0.006598</td>\n",
       "      <td>0.555279</td>\n",
       "    </tr>\n",
       "    <tr>\n",
       "      <th>5</th>\n",
       "      <td>1.200327</td>\n",
       "      <td>-0.102074</td>\n",
       "      <td>0.548792</td>\n",
       "      <td>0.574167</td>\n",
       "      <td>-0.670535</td>\n",
       "      <td>-0.654230</td>\n",
       "      <td>-0.094458</td>\n",
       "      <td>-0.150529</td>\n",
       "      <td>0.639448</td>\n",
       "      <td>-0.327393</td>\n",
       "      <td>...</td>\n",
       "      <td>-0.000334</td>\n",
       "      <td>-0.104731</td>\n",
       "      <td>0.484101</td>\n",
       "      <td>0.548662</td>\n",
       "      <td>0.667331</td>\n",
       "      <td>-0.034178</td>\n",
       "      <td>0.011665</td>\n",
       "      <td>0</td>\n",
       "      <td>-0.241963</td>\n",
       "      <td>-0.516127</td>\n",
       "    </tr>\n",
       "    <tr>\n",
       "      <th>6</th>\n",
       "      <td>-1.201791</td>\n",
       "      <td>1.147915</td>\n",
       "      <td>0.197853</td>\n",
       "      <td>-1.292503</td>\n",
       "      <td>0.981777</td>\n",
       "      <td>-0.860087</td>\n",
       "      <td>1.046019</td>\n",
       "      <td>-0.154584</td>\n",
       "      <td>0.379192</td>\n",
       "      <td>0.037530</td>\n",
       "      <td>...</td>\n",
       "      <td>-0.865785</td>\n",
       "      <td>-0.262416</td>\n",
       "      <td>-0.728547</td>\n",
       "      <td>-0.006780</td>\n",
       "      <td>0.156053</td>\n",
       "      <td>0.426311</td>\n",
       "      <td>0.287078</td>\n",
       "      <td>0</td>\n",
       "      <td>-0.297296</td>\n",
       "      <td>0.735683</td>\n",
       "    </tr>\n",
       "    <tr>\n",
       "      <th>7</th>\n",
       "      <td>-0.451383</td>\n",
       "      <td>2.225147</td>\n",
       "      <td>-4.953050</td>\n",
       "      <td>4.342228</td>\n",
       "      <td>-3.656190</td>\n",
       "      <td>-0.020121</td>\n",
       "      <td>-5.407554</td>\n",
       "      <td>-0.748436</td>\n",
       "      <td>-1.362198</td>\n",
       "      <td>-4.170623</td>\n",
       "      <td>...</td>\n",
       "      <td>0.495889</td>\n",
       "      <td>1.154128</td>\n",
       "      <td>-0.016186</td>\n",
       "      <td>-2.079928</td>\n",
       "      <td>-0.554377</td>\n",
       "      <td>0.455179</td>\n",
       "      <td>0.001321</td>\n",
       "      <td>1</td>\n",
       "      <td>0.102233</td>\n",
       "      <td>-0.761704</td>\n",
       "    </tr>\n",
       "    <tr>\n",
       "      <th>8</th>\n",
       "      <td>-1.020632</td>\n",
       "      <td>1.496959</td>\n",
       "      <td>-4.490937</td>\n",
       "      <td>1.836727</td>\n",
       "      <td>0.627318</td>\n",
       "      <td>-2.735569</td>\n",
       "      <td>-1.546274</td>\n",
       "      <td>0.459822</td>\n",
       "      <td>-0.682741</td>\n",
       "      <td>-4.363102</td>\n",
       "      <td>...</td>\n",
       "      <td>0.860618</td>\n",
       "      <td>-0.304666</td>\n",
       "      <td>-0.155500</td>\n",
       "      <td>0.412166</td>\n",
       "      <td>-0.220080</td>\n",
       "      <td>0.392338</td>\n",
       "      <td>-0.020089</td>\n",
       "      <td>1</td>\n",
       "      <td>-0.265112</td>\n",
       "      <td>0.158022</td>\n",
       "    </tr>\n",
       "    <tr>\n",
       "      <th>9</th>\n",
       "      <td>1.453906</td>\n",
       "      <td>-1.070162</td>\n",
       "      <td>0.292760</td>\n",
       "      <td>-1.562809</td>\n",
       "      <td>-1.160185</td>\n",
       "      <td>-0.044738</td>\n",
       "      <td>-1.107004</td>\n",
       "      <td>0.065961</td>\n",
       "      <td>-2.062027</td>\n",
       "      <td>1.570224</td>\n",
       "      <td>...</td>\n",
       "      <td>-0.071468</td>\n",
       "      <td>0.012427</td>\n",
       "      <td>-0.323025</td>\n",
       "      <td>0.322450</td>\n",
       "      <td>-0.173772</td>\n",
       "      <td>0.040816</td>\n",
       "      <td>0.004056</td>\n",
       "      <td>0</td>\n",
       "      <td>-0.293258</td>\n",
       "      <td>-0.427578</td>\n",
       "    </tr>\n",
       "  </tbody>\n",
       "</table>\n",
       "<p>10 rows × 31 columns</p>\n",
       "</div>"
      ],
      "text/plain": [
       "          V1         V2         V3         V4         V5        V6         V7  \\\n",
       "0  -0.782845   0.368745   2.491474   1.601648  -0.417058  1.017225   0.366164   \n",
       "1   1.183703   0.306221   0.264077   1.073882  -0.070720 -0.488475   0.169703   \n",
       "2 -17.976266  12.864989 -19.575066  11.345120 -13.998646 -0.354900 -23.783470   \n",
       "3  -1.572200  -0.701301   0.511534  -0.862446   0.263180 -0.262617  -0.341091   \n",
       "4  -1.452337  -0.466853  -0.555007  -3.355574   2.117199  3.431942  -0.538528   \n",
       "5   1.200327  -0.102074   0.548792   0.574167  -0.670535 -0.654230  -0.094458   \n",
       "6  -1.201791   1.147915   0.197853  -1.292503   0.981777 -0.860087   1.046019   \n",
       "7  -0.451383   2.225147  -4.953050   4.342228  -3.656190 -0.020121  -5.407554   \n",
       "8  -1.020632   1.496959  -4.490937   1.836727   0.627318 -2.735569  -1.546274   \n",
       "9   1.453906  -1.070162   0.292760  -1.562809  -1.160185 -0.044738  -1.107004   \n",
       "\n",
       "         V8        V9        V10  ...       V22       V23       V24       V25  \\\n",
       "0  0.020070  0.037205   0.038884  ...  0.822213 -0.074362 -0.260301  0.212852   \n",
       "1 -0.111308 -0.060025  -0.040701  ...  0.256815 -0.080445  0.093816  0.619853   \n",
       "2 -4.872353 -8.504285 -16.601197  ...  2.865772  1.489302  0.386039 -0.232392   \n",
       "3  0.518395 -1.389271   0.053214  ... -0.355081 -0.108576 -0.266942 -0.672116   \n",
       "4  1.577375  0.787465  -1.671112  ...  0.572263  0.028159  0.761226 -0.097191   \n",
       "5 -0.150529  0.639448  -0.327393  ... -0.000334 -0.104731  0.484101  0.548662   \n",
       "6 -0.154584  0.379192   0.037530  ... -0.865785 -0.262416 -0.728547 -0.006780   \n",
       "7 -0.748436 -1.362198  -4.170623  ...  0.495889  1.154128 -0.016186 -2.079928   \n",
       "8  0.459822 -0.682741  -4.363102  ...  0.860618 -0.304666 -0.155500  0.412166   \n",
       "9  0.065961 -2.062027   1.570224  ... -0.071468  0.012427 -0.323025  0.322450   \n",
       "\n",
       "        V26       V27       V28  Class  scaled_amount  scaled_time  \n",
       "0  0.066400 -0.051980 -0.187419      0       0.042581    -1.440443  \n",
       "1 -0.300535  0.030134  0.019082      0      -0.299295    -0.609392  \n",
       "2  0.413827 -3.255981 -0.538963      1      -0.318686     0.048584  \n",
       "3  0.078107 -0.004930 -0.035108      0      -0.129337    -0.597705  \n",
       "4  0.546707  0.198838  0.055341      0       0.006598     0.555279  \n",
       "5  0.667331 -0.034178  0.011665      0      -0.241963    -0.516127  \n",
       "6  0.156053  0.426311  0.287078      0      -0.297296     0.735683  \n",
       "7 -0.554377  0.455179  0.001321      1       0.102233    -0.761704  \n",
       "8 -0.220080  0.392338 -0.020089      1      -0.265112     0.158022  \n",
       "9 -0.173772  0.040816  0.004056      0      -0.293258    -0.427578  \n",
       "\n",
       "[10 rows x 31 columns]"
      ]
     },
     "execution_count": 25,
     "metadata": {},
     "output_type": "execute_result"
    }
   ],
   "source": [
    "#shuffling our data set\n",
    "subsample = subsample.sample(frac=1).reset_index(drop=True)\n",
    "subsample.head(10)"
   ]
  },
  {
   "cell_type": "code",
   "execution_count": 26,
   "metadata": {
    "scrolled": true
   },
   "outputs": [
    {
     "data": {
      "text/plain": [
       "Text(0.5, 0, 'Class (0:Non-Fraudulent, 1:Fraudulent)')"
      ]
     },
     "execution_count": 26,
     "metadata": {},
     "output_type": "execute_result"
    },
    {
     "data": {
      "image/png": "[encoded data removed]",
      "text/plain": [
       "<Figure size 576x432 with 1 Axes>"
      ]
     },
     "metadata": {},
     "output_type": "display_data"
    }
   ],
   "source": [
    "new_counts = subsample.Class.value_counts()\n",
    "plt.figure(figsize=(8,6))\n",
    "sns.barplot(x=new_counts.index, y=new_counts)\n",
    "plt.title('Count of Fraudulent vs. Non-Fraudulent Transactions In Subsample')\n",
    "plt.ylabel('Count')\n",
    "plt.xlabel('Class (0:Non-Fraudulent, 1:Fraudulent)')"
   ]
  },
  {
   "cell_type": "code",
   "execution_count": 27,
   "metadata": {
    "scrolled": true
   },
   "outputs": [
    {
     "data": {
      "text/html": [
       "<div>\n",
       "<style scoped>\n",
       "    .dataframe tbody tr th:only-of-type {\n",
       "        vertical-align: middle;\n",
       "    }\n",
       "\n",
       "    .dataframe tbody tr th {\n",
       "        vertical-align: top;\n",
       "    }\n",
       "\n",
       "    .dataframe thead th {\n",
       "        text-align: right;\n",
       "    }\n",
       "</style>\n",
       "<table border=\"1\" class=\"dataframe\">\n",
       "  <thead>\n",
       "    <tr style=\"text-align: right;\">\n",
       "      <th></th>\n",
       "      <th>Class</th>\n",
       "    </tr>\n",
       "  </thead>\n",
       "  <tbody>\n",
       "    <tr>\n",
       "      <th>V1</th>\n",
       "      <td>-0.445592</td>\n",
       "    </tr>\n",
       "    <tr>\n",
       "      <th>V2</th>\n",
       "      <td>0.503256</td>\n",
       "    </tr>\n",
       "    <tr>\n",
       "      <th>V3</th>\n",
       "      <td>-0.565696</td>\n",
       "    </tr>\n",
       "    <tr>\n",
       "      <th>V4</th>\n",
       "      <td>0.715353</td>\n",
       "    </tr>\n",
       "    <tr>\n",
       "      <th>V5</th>\n",
       "      <td>-0.376530</td>\n",
       "    </tr>\n",
       "    <tr>\n",
       "      <th>V6</th>\n",
       "      <td>-0.406112</td>\n",
       "    </tr>\n",
       "    <tr>\n",
       "      <th>V7</th>\n",
       "      <td>-0.478351</td>\n",
       "    </tr>\n",
       "    <tr>\n",
       "      <th>V8</th>\n",
       "      <td>0.057583</td>\n",
       "    </tr>\n",
       "    <tr>\n",
       "      <th>V9</th>\n",
       "      <td>-0.545179</td>\n",
       "    </tr>\n",
       "    <tr>\n",
       "      <th>V10</th>\n",
       "      <td>-0.629005</td>\n",
       "    </tr>\n",
       "    <tr>\n",
       "      <th>V11</th>\n",
       "      <td>0.688081</td>\n",
       "    </tr>\n",
       "    <tr>\n",
       "      <th>V12</th>\n",
       "      <td>-0.684162</td>\n",
       "    </tr>\n",
       "    <tr>\n",
       "      <th>V13</th>\n",
       "      <td>0.007314</td>\n",
       "    </tr>\n",
       "    <tr>\n",
       "      <th>V14</th>\n",
       "      <td>-0.750011</td>\n",
       "    </tr>\n",
       "    <tr>\n",
       "      <th>V15</th>\n",
       "      <td>-0.001950</td>\n",
       "    </tr>\n",
       "    <tr>\n",
       "      <th>V16</th>\n",
       "      <td>-0.601543</td>\n",
       "    </tr>\n",
       "    <tr>\n",
       "      <th>V17</th>\n",
       "      <td>-0.566568</td>\n",
       "    </tr>\n",
       "    <tr>\n",
       "      <th>V18</th>\n",
       "      <td>-0.486669</td>\n",
       "    </tr>\n",
       "    <tr>\n",
       "      <th>V19</th>\n",
       "      <td>0.280034</td>\n",
       "    </tr>\n",
       "    <tr>\n",
       "      <th>V20</th>\n",
       "      <td>0.203406</td>\n",
       "    </tr>\n",
       "    <tr>\n",
       "      <th>V21</th>\n",
       "      <td>0.108264</td>\n",
       "    </tr>\n",
       "    <tr>\n",
       "      <th>V22</th>\n",
       "      <td>-0.004194</td>\n",
       "    </tr>\n",
       "    <tr>\n",
       "      <th>V23</th>\n",
       "      <td>-0.033113</td>\n",
       "    </tr>\n",
       "    <tr>\n",
       "      <th>V24</th>\n",
       "      <td>-0.064939</td>\n",
       "    </tr>\n",
       "    <tr>\n",
       "      <th>V25</th>\n",
       "      <td>0.045081</td>\n",
       "    </tr>\n",
       "    <tr>\n",
       "      <th>V26</th>\n",
       "      <td>0.073629</td>\n",
       "    </tr>\n",
       "    <tr>\n",
       "      <th>V27</th>\n",
       "      <td>0.092861</td>\n",
       "    </tr>\n",
       "    <tr>\n",
       "      <th>V28</th>\n",
       "      <td>0.081228</td>\n",
       "    </tr>\n",
       "    <tr>\n",
       "      <th>Class</th>\n",
       "      <td>1.000000</td>\n",
       "    </tr>\n",
       "    <tr>\n",
       "      <th>scaled_amount</th>\n",
       "      <td>0.074221</td>\n",
       "    </tr>\n",
       "    <tr>\n",
       "      <th>scaled_time</th>\n",
       "      <td>-0.187232</td>\n",
       "    </tr>\n",
       "  </tbody>\n",
       "</table>\n",
       "</div>"
      ],
      "text/plain": [
       "                  Class\n",
       "V1            -0.445592\n",
       "V2             0.503256\n",
       "V3            -0.565696\n",
       "V4             0.715353\n",
       "V5            -0.376530\n",
       "V6            -0.406112\n",
       "V7            -0.478351\n",
       "V8             0.057583\n",
       "V9            -0.545179\n",
       "V10           -0.629005\n",
       "V11            0.688081\n",
       "V12           -0.684162\n",
       "V13            0.007314\n",
       "V14           -0.750011\n",
       "V15           -0.001950\n",
       "V16           -0.601543\n",
       "V17           -0.566568\n",
       "V18           -0.486669\n",
       "V19            0.280034\n",
       "V20            0.203406\n",
       "V21            0.108264\n",
       "V22           -0.004194\n",
       "V23           -0.033113\n",
       "V24           -0.064939\n",
       "V25            0.045081\n",
       "V26            0.073629\n",
       "V27            0.092861\n",
       "V28            0.081228\n",
       "Class          1.000000\n",
       "scaled_amount  0.074221\n",
       "scaled_time   -0.187232"
      ]
     },
     "execution_count": 27,
     "metadata": {},
     "output_type": "execute_result"
    }
   ],
   "source": [
    "#taking a look at correlations once more\n",
    "corr = subsample.corr()\n",
    "corr = corr[['Class']]\n",
    "corr"
   ]
  },
  {
   "cell_type": "code",
   "execution_count": 28,
   "metadata": {
    "scrolled": true
   },
   "outputs": [
    {
     "data": {
      "text/html": [
       "<div>\n",
       "<style scoped>\n",
       "    .dataframe tbody tr th:only-of-type {\n",
       "        vertical-align: middle;\n",
       "    }\n",
       "\n",
       "    .dataframe tbody tr th {\n",
       "        vertical-align: top;\n",
       "    }\n",
       "\n",
       "    .dataframe thead th {\n",
       "        text-align: right;\n",
       "    }\n",
       "</style>\n",
       "<table border=\"1\" class=\"dataframe\">\n",
       "  <thead>\n",
       "    <tr style=\"text-align: right;\">\n",
       "      <th></th>\n",
       "      <th>Class</th>\n",
       "    </tr>\n",
       "  </thead>\n",
       "  <tbody>\n",
       "    <tr>\n",
       "      <th>V3</th>\n",
       "      <td>-0.565696</td>\n",
       "    </tr>\n",
       "    <tr>\n",
       "      <th>V9</th>\n",
       "      <td>-0.545179</td>\n",
       "    </tr>\n",
       "    <tr>\n",
       "      <th>V10</th>\n",
       "      <td>-0.629005</td>\n",
       "    </tr>\n",
       "    <tr>\n",
       "      <th>V12</th>\n",
       "      <td>-0.684162</td>\n",
       "    </tr>\n",
       "    <tr>\n",
       "      <th>V14</th>\n",
       "      <td>-0.750011</td>\n",
       "    </tr>\n",
       "    <tr>\n",
       "      <th>V16</th>\n",
       "      <td>-0.601543</td>\n",
       "    </tr>\n",
       "    <tr>\n",
       "      <th>V17</th>\n",
       "      <td>-0.566568</td>\n",
       "    </tr>\n",
       "  </tbody>\n",
       "</table>\n",
       "</div>"
      ],
      "text/plain": [
       "        Class\n",
       "V3  -0.565696\n",
       "V9  -0.545179\n",
       "V10 -0.629005\n",
       "V12 -0.684162\n",
       "V14 -0.750011\n",
       "V16 -0.601543\n",
       "V17 -0.566568"
      ]
     },
     "execution_count": 28,
     "metadata": {},
     "output_type": "execute_result"
    }
   ],
   "source": [
    "#negative correlations smaller than -0.5\n",
    "corr[corr.Class < -0.5]"
   ]
  },
  {
   "cell_type": "code",
   "execution_count": 29,
   "metadata": {},
   "outputs": [
    {
     "data": {
      "text/html": [
       "<div>\n",
       "<style scoped>\n",
       "    .dataframe tbody tr th:only-of-type {\n",
       "        vertical-align: middle;\n",
       "    }\n",
       "\n",
       "    .dataframe tbody tr th {\n",
       "        vertical-align: top;\n",
       "    }\n",
       "\n",
       "    .dataframe thead th {\n",
       "        text-align: right;\n",
       "    }\n",
       "</style>\n",
       "<table border=\"1\" class=\"dataframe\">\n",
       "  <thead>\n",
       "    <tr style=\"text-align: right;\">\n",
       "      <th></th>\n",
       "      <th>Class</th>\n",
       "    </tr>\n",
       "  </thead>\n",
       "  <tbody>\n",
       "    <tr>\n",
       "      <th>V2</th>\n",
       "      <td>0.503256</td>\n",
       "    </tr>\n",
       "    <tr>\n",
       "      <th>V4</th>\n",
       "      <td>0.715353</td>\n",
       "    </tr>\n",
       "    <tr>\n",
       "      <th>V11</th>\n",
       "      <td>0.688081</td>\n",
       "    </tr>\n",
       "    <tr>\n",
       "      <th>Class</th>\n",
       "      <td>1.000000</td>\n",
       "    </tr>\n",
       "  </tbody>\n",
       "</table>\n",
       "</div>"
      ],
      "text/plain": [
       "          Class\n",
       "V2     0.503256\n",
       "V4     0.715353\n",
       "V11    0.688081\n",
       "Class  1.000000"
      ]
     },
     "execution_count": 29,
     "metadata": {},
     "output_type": "execute_result"
    }
   ],
   "source": [
    "#positive correlations greater than 0.5\n",
    "corr[corr.Class > 0.5]"
   ]
  },
  {
   "cell_type": "code",
   "execution_count": 30,
   "metadata": {
    "scrolled": true
   },
   "outputs": [
    {
     "data": {
      "image/png": "[encoded data removed]",
      "text/plain": [
       "<Figure size 1872x1152 with 7 Axes>"
      ]
     },
     "metadata": {},
     "output_type": "display_data"
    }
   ],
   "source": [
    "#visualizing the features with high negative correlation\n",
    "f, axes = plt.subplots(nrows=2, ncols=4, figsize=(26,16))\n",
    "\n",
    "f.suptitle('Features With High Negative Correlation', size=35)\n",
    "sns.boxplot(x=\"Class\", y=\"V3\", data=subsample, ax=axes[0,0])\n",
    "sns.boxplot(x=\"Class\", y=\"V9\", data=subsample, ax=axes[0,1])\n",
    "sns.boxplot(x=\"Class\", y=\"V10\", data=subsample, ax=axes[0,2])\n",
    "sns.boxplot(x=\"Class\", y=\"V12\", data=subsample, ax=axes[0,3])\n",
    "sns.boxplot(x=\"Class\", y=\"V14\", data=subsample, ax=axes[1,0])\n",
    "sns.boxplot(x=\"Class\", y=\"V16\", data=subsample, ax=axes[1,1])\n",
    "sns.boxplot(x=\"Class\", y=\"V17\", data=subsample, ax=axes[1,2])\n",
    "f.delaxes(axes[1,3])"
   ]
  },
  {
   "cell_type": "code",
   "execution_count": 31,
   "metadata": {},
   "outputs": [
    {
     "data": {
      "text/plain": [
       "<matplotlib.axes._subplots.AxesSubplot at 0x27aaab84850>"
      ]
     },
     "execution_count": 31,
     "metadata": {},
     "output_type": "execute_result"
    },
    {
     "data": {
      "image/png": "[encoded data removed]",
      "text/plain": [
       "<Figure size 1296x648 with 2 Axes>"
      ]
     },
     "metadata": {},
     "output_type": "display_data"
    }
   ],
   "source": [
    "#visualizing the features with high positive correlation\n",
    "f, axes = plt.subplots(nrows=1, ncols=2, figsize=(18,9))\n",
    "\n",
    "f.suptitle('Features With High Positive Correlation', size=20)\n",
    "sns.boxplot(x=\"Class\", y=\"V4\", data=subsample, ax=axes[0])\n",
    "sns.boxplot(x=\"Class\", y=\"V11\", data=subsample, ax=axes[1])"
   ]
  },
  {
   "cell_type": "markdown",
   "metadata": {},
   "source": [
    "#### Extreme Outlier Remove"
   ]
  },
  {
   "cell_type": "code",
   "execution_count": 32,
   "metadata": {},
   "outputs": [],
   "source": [
    "#Only removing extreme outliers\n",
    "Q1 = subsample.quantile(0.25)\n",
    "Q3 = subsample.quantile(0.75)\n",
    "IQR = Q3 - Q1\n",
    "\n",
    "df2 = subsample[~((subsample < (Q1 - 2.5 * IQR)) | (subsample > (Q3 + 2.5 * IQR))).any(axis=1)]"
   ]
  },
  {
   "cell_type": "code",
   "execution_count": 33,
   "metadata": {},
   "outputs": [
    {
     "name": "stdout",
     "output_type": "stream",
     "text": [
      "We reduced our data size from 900 transactions by 258 transactions to 642 transactions.\n"
     ]
    }
   ],
   "source": [
    "len_after = len(df2)\n",
    "len_before = len(subsample)\n",
    "len_difference = len(subsample) - len(df2)\n",
    "print('We reduced our data size from {} transactions by {} transactions to {} transactions.'.format(len_before, len_difference, len_after))"
   ]
  },
  {
   "cell_type": "markdown",
   "metadata": {},
   "source": [
    "#### Dimensionality Reduction"
   ]
  },
  {
   "cell_type": "code",
   "execution_count": 34,
   "metadata": {},
   "outputs": [],
   "source": [
    "from sklearn.manifold import TSNE\n",
    "\n",
    "X = df2.drop('Class', axis=1)\n",
    "y = df2['Class']"
   ]
  },
  {
   "cell_type": "code",
   "execution_count": 35,
   "metadata": {},
   "outputs": [],
   "source": [
    "#t-SNE\n",
    "X_reduced_tsne = TSNE(n_components=2, random_state=42).fit_transform(X.values)"
   ]
  },
  {
   "cell_type": "code",
   "execution_count": 36,
   "metadata": {
    "scrolled": true
   },
   "outputs": [
    {
     "data": {
      "text/plain": [
       "<matplotlib.legend.Legend at 0x27aaad0fd60>"
      ]
     },
     "execution_count": 36,
     "metadata": {},
     "output_type": "execute_result"
    },
    {
     "data": {
      "image/png": "[encoded data removed]",
      "text/plain": [
       "<Figure size 1728x1152 with 1 Axes>"
      ]
     },
     "metadata": {},
     "output_type": "display_data"
    }
   ],
   "source": [
    "# t-SNE scatter plot\n",
    "import matplotlib.patches as mpatches\n",
    "\n",
    "f, ax = plt.subplots(figsize=(24,16))\n",
    "\n",
    "\n",
    "blue_patch = mpatches.Patch(color='#0A0AFF', label='No Fraud')\n",
    "red_patch = mpatches.Patch(color='#AF0000', label='Fraud')\n",
    "\n",
    "ax.scatter(X_reduced_tsne[:,0], X_reduced_tsne[:,1], c=(y == 0), cmap='coolwarm', label='No Fraud', linewidths=2)\n",
    "ax.scatter(X_reduced_tsne[:,0], X_reduced_tsne[:,1], c=(y == 1), cmap='coolwarm', label='Fraud', linewidths=2)\n",
    "ax.set_title('t-SNE', fontsize=14)\n",
    "\n",
    "ax.grid(True)\n",
    "\n",
    "ax.legend(handles=[blue_patch, red_patch])\n"
   ]
  },
  {
   "cell_type": "code",
   "execution_count": 37,
   "metadata": {},
   "outputs": [],
   "source": [
    "def warn(*args, **kwargs):\n",
    "    pass\n",
    "import warnings\n",
    "warnings.warn = warn"
   ]
  },
  {
   "cell_type": "code",
   "execution_count": 38,
   "metadata": {},
   "outputs": [],
   "source": [
    "# train test split\n",
    "from sklearn.model_selection import train_test_split\n",
    "\n",
    "X_train, X_test, y_train, y_test = train_test_split(X, y, test_size=0.2, random_state=42)"
   ]
  },
  {
   "cell_type": "code",
   "execution_count": 39,
   "metadata": {},
   "outputs": [],
   "source": [
    "X_train = X_train.values\n",
    "X_validation = X_test.values\n",
    "y_train = y_train.values\n",
    "y_validation = y_test.values"
   ]
  },
  {
   "cell_type": "code",
   "execution_count": 40,
   "metadata": {
    "scrolled": true
   },
   "outputs": [
    {
     "name": "stdout",
     "output_type": "stream",
     "text": [
      "X_shapes:\n",
      " X_train: X_validation:\n",
      " (513, 30) (129, 30) \n",
      "\n",
      "Y_shapes:\n",
      " Y_train: Y_validation:\n",
      " (513,) (129,)\n"
     ]
    }
   ],
   "source": [
    "print('X_shapes:\\n', 'X_train:', 'X_validation:\\n', X_train.shape, X_validation.shape, '\\n')\n",
    "print('Y_shapes:\\n', 'Y_train:', 'Y_validation:\\n', y_train.shape, y_validation.shape)"
   ]
  },
  {
   "cell_type": "markdown",
   "metadata": {},
   "source": [
    "## Model-1\n",
    "\n",
    "This model will be build on pure balanced dataset which created above"
   ]
  },
  {
   "cell_type": "code",
   "execution_count": 41,
   "metadata": {},
   "outputs": [],
   "source": [
    "from sklearn.model_selection import KFold\n",
    "from sklearn.model_selection import cross_val_score\n",
    "from sklearn.metrics import roc_auc_score\n",
    "from sklearn.metrics import classification_report\n",
    "from sklearn.metrics import confusion_matrix\n",
    "from sklearn.linear_model import LogisticRegression\n",
    "from sklearn.discriminant_analysis import LinearDiscriminantAnalysis\n",
    "from sklearn.neighbors import KNeighborsClassifier\n",
    "from sklearn.tree import DecisionTreeClassifier\n",
    "from sklearn.svm import SVC\n",
    "from xgboost import XGBClassifier\n",
    "from sklearn.ensemble import RandomForestClassifier"
   ]
  },
  {
   "cell_type": "code",
   "execution_count": 42,
   "metadata": {
    "scrolled": true
   },
   "outputs": [
    {
     "name": "stdout",
     "output_type": "stream",
     "text": [
      "LR: 0.971459 (0.023107)\n",
      "LDA: 0.969303 (0.029109)\n",
      "KNN: 0.959158 (0.026602)\n",
      "CART: 0.902866 (0.030154)\n",
      "SVM: 0.969498 (0.027086)\n",
      "XGB: 0.967676 (0.031231)\n",
      "RF: 0.969510 (0.025965)\n"
     ]
    }
   ],
   "source": [
    "##Spot-Checking Algorithms\n",
    "\n",
    "models = []\n",
    "\n",
    "models.append(('LR', LogisticRegression()))\n",
    "models.append(('LDA', LinearDiscriminantAnalysis()))\n",
    "models.append(('KNN', KNeighborsClassifier()))\n",
    "models.append(('CART', DecisionTreeClassifier()))\n",
    "models.append(('SVM', SVC()))\n",
    "models.append(('XGB', XGBClassifier()))\n",
    "models.append(('RF', RandomForestClassifier()))\n",
    "\n",
    "#testing models\n",
    "\n",
    "results = []\n",
    "names = []\n",
    "\n",
    "for name, model in models:\n",
    "    kfold = KFold(n_splits=10, random_state=42)\n",
    "    cv_results = cross_val_score(model, X_train, y_train, cv=kfold, scoring='roc_auc')\n",
    "    results.append(cv_results)\n",
    "    names.append(name)\n",
    "    msg = '%s: %f (%f)' % (name, cv_results.mean(), cv_results.std())\n",
    "    print(msg)"
   ]
  },
  {
   "cell_type": "code",
   "execution_count": 43,
   "metadata": {
    "scrolled": false
   },
   "outputs": [
    {
     "data": {
      "image/png": "[encoded data removed]",
      "text/plain": [
       "<Figure size 864x720 with 1 Axes>"
      ]
     },
     "metadata": {},
     "output_type": "display_data"
    }
   ],
   "source": [
    "fig = plt.figure(figsize=(12,10))\n",
    "plt.title('Comparison of Classification Algorithms')\n",
    "plt.xlabel('Algorithm')\n",
    "plt.ylabel('ROC-AUC Score')\n",
    "plt.boxplot(results)\n",
    "ax = fig.add_subplot(111)\n",
    "ax.set_xticklabels(names)\n",
    "plt.show()"
   ]
  },
  {
   "cell_type": "markdown",
   "metadata": {},
   "source": [
    "## Model 2"
   ]
  },
  {
   "cell_type": "markdown",
   "metadata": {},
   "source": [
    "**Classification Algorithms**"
   ]
  },
  {
   "cell_type": "code",
   "execution_count": 44,
   "metadata": {},
   "outputs": [],
   "source": [
    "X = df.drop('Class',axis=1)\n",
    "y = df['Class']"
   ]
  },
  {
   "cell_type": "code",
   "execution_count": 45,
   "metadata": {},
   "outputs": [
    {
     "name": "stdout",
     "output_type": "stream",
     "text": [
      "Size of x-sample : (568630, 30)\n",
      "Size of y-sample : (568630, 1)\n"
     ]
    }
   ],
   "source": [
    "from imblearn.over_sampling import SMOTE\n",
    "\n",
    "x_sample, y_sample = SMOTE().fit_sample(X, y)\n",
    "\n",
    "x_sample = pd.DataFrame(x_sample)\n",
    "y_sample = pd.DataFrame(y_sample)\n",
    "\n",
    "# checking the sizes of the sample data\n",
    "print(\"Size of x-sample :\", x_sample.shape)\n",
    "print(\"Size of y-sample :\", y_sample.shape)"
   ]
  },
  {
   "cell_type": "code",
   "execution_count": 46,
   "metadata": {},
   "outputs": [],
   "source": [
    "# Using Skicit-learn to split data into training and testing sets \n",
    "from sklearn.model_selection import train_test_split \n",
    "# Split the data into training and testing sets \n",
    "X_train, X_test, y_train, y_test = train_test_split( \n",
    "        x_sample, y_sample, test_size = 0.2, random_state = 42)"
   ]
  },
  {
   "cell_type": "code",
   "execution_count": 47,
   "metadata": {},
   "outputs": [
    {
     "name": "stdout",
     "output_type": "stream",
     "text": [
      "Length of X_train is: 454904\n",
      "Length of X_test is: 113726\n",
      "Length of y_train is: 454904\n",
      "Length of y_test is: 113726\n"
     ]
    }
   ],
   "source": [
    "print(\"Length of X_train is: {X_train}\".format(X_train = len(X_train)))\n",
    "print(\"Length of X_test is: {X_test}\".format(X_test = len(X_test)))\n",
    "print(\"Length of y_train is: {y_train}\".format(y_train = len(y_train)))\n",
    "print(\"Length of y_test is: {y_test}\".format(y_test = len(y_test)))"
   ]
  },
  {
   "cell_type": "markdown",
   "metadata": {},
   "source": [
    "### DNN Model Building\n",
    "\n",
    "##### Here we will build a 5-layer deep neural networking using the Sequential model in Keras."
   ]
  },
  {
   "cell_type": "code",
   "execution_count": 48,
   "metadata": {},
   "outputs": [],
   "source": [
    "from tensorflow.keras import layers,Sequential\n",
    "\n",
    "model = Sequential([\n",
    "    layers.Dense(input_dim = 30, units = 16, activation = 'relu'),\n",
    "    layers.Dense(units = 24, activation = 'relu'),\n",
    "    layers.Dropout(0.5),\n",
    "    layers.Dense(units = 20, activation = 'relu'),\n",
    "    layers.Dense(units = 24, activation = 'relu'),\n",
    "    layers.Dense(units =1, activation = 'sigmoid')])"
   ]
  },
  {
   "cell_type": "markdown",
   "metadata": {},
   "source": [
    "#### With the model architecture built, let’s compile and train the model."
   ]
  },
  {
   "cell_type": "code",
   "execution_count": 49,
   "metadata": {
    "scrolled": true
   },
   "outputs": [
    {
     "name": "stdout",
     "output_type": "stream",
     "text": [
      "Epoch 1/5\n",
      "30327/30327 [==============================] - 42s 1ms/step - loss: 0.0436 - accuracy: 0.9846\n",
      "Epoch 2/5\n",
      "30327/30327 [==============================] - 39s 1ms/step - loss: 0.0192 - accuracy: 0.9946\n",
      "Epoch 3/5\n",
      "30327/30327 [==============================] - 39s 1ms/step - loss: 0.0158 - accuracy: 0.9958\n",
      "Epoch 4/5\n",
      "30327/30327 [==============================] - 38s 1ms/step - loss: 0.0140 - accuracy: 0.9963\n",
      "Epoch 5/5\n",
      "30327/30327 [==============================] - 40s 1ms/step - loss: 0.0131 - accuracy: 0.9968\n"
     ]
    },
    {
     "data": {
      "text/plain": [
       "<tensorflow.python.keras.callbacks.History at 0x27ad6aaaee0>"
      ]
     },
     "execution_count": 49,
     "metadata": {},
     "output_type": "execute_result"
    }
   ],
   "source": [
    "model.compile(optimizer = 'adam', loss = 'binary_crossentropy', metrics = ['accuracy'])\n",
    "model.fit(X_train, y_train, batch_size = 15, epochs = 5)"
   ]
  },
  {
   "cell_type": "code",
   "execution_count": 50,
   "metadata": {},
   "outputs": [
    {
     "name": "stdout",
     "output_type": "stream",
     "text": [
      "3554/3554 [==============================] - 4s 1ms/step - loss: 0.0090 - accuracy: 0.9980\n",
      "[0.008958921767771244, 0.9980303645133972]\n"
     ]
    }
   ],
   "source": [
    "score = model.evaluate(X_test,y_test)\n",
    "print(score)"
   ]
  },
  {
   "cell_type": "markdown",
   "metadata": {},
   "source": [
    "## RANDOM FOREST"
   ]
  },
  {
   "cell_type": "code",
   "execution_count": 51,
   "metadata": {},
   "outputs": [
    {
     "data": {
      "text/plain": [
       "RandomForestClassifier()"
      ]
     },
     "execution_count": 51,
     "metadata": {},
     "output_type": "execute_result"
    }
   ],
   "source": [
    "from sklearn.ensemble import RandomForestClassifier \n",
    "rfc = RandomForestClassifier(n_estimators=100) \n",
    "rfc.fit(X_train, y_train)"
   ]
  },
  {
   "cell_type": "code",
   "execution_count": 59,
   "metadata": {},
   "outputs": [],
   "source": [
    "y_pred = rfc.predict(X_test)"
   ]
  },
  {
   "cell_type": "markdown",
   "metadata": {},
   "source": [
    "### Decision Tree"
   ]
  },
  {
   "cell_type": "markdown",
   "metadata": {},
   "source": [
    "##### Now let’s build a decision tree model."
   ]
  },
  {
   "cell_type": "code",
   "execution_count": 60,
   "metadata": {},
   "outputs": [],
   "source": [
    "from sklearn.tree import DecisionTreeClassifier\n",
    "decision_tree_model = DecisionTreeClassifier()\n",
    "decision_tree_model.fit(X_train, y_train)\n",
    "y_pred = decision_tree_model.predict(X_test)"
   ]
  },
  {
   "cell_type": "code",
   "execution_count": 61,
   "metadata": {},
   "outputs": [
    {
     "name": "stdout",
     "output_type": "stream",
     "text": [
      "[1 1 0 ... 1 1 0]\n"
     ]
    }
   ],
   "source": [
    "# predictions \n",
    "yPred = rfc.predict(X_test) \n",
    "print(yPred)"
   ]
  },
  {
   "cell_type": "code",
   "execution_count": 62,
   "metadata": {},
   "outputs": [
    {
     "name": "stdout",
     "output_type": "stream",
     "text": [
      "The model used is Random Forest classifier\n",
      "The accuracy is 0.9999120693596891\n",
      "The precision is 0.999824518302741\n",
      "The recall is 1.0\n",
      "The F1-Score is 0.9999122514522385\n",
      "The Matthews correlation coefficient is0.9998241534244318\n"
     ]
    }
   ],
   "source": [
    "yPred = yPred.reshape(-1,1)\n",
    "# Evaluating the classifier \n",
    "# printing every score of the classifier \n",
    "# scoring in anything \n",
    "from sklearn.metrics import classification_report, accuracy_score \n",
    "from sklearn.metrics import precision_score, recall_score \n",
    "from sklearn.metrics import f1_score, matthews_corrcoef \n",
    "from sklearn.metrics import confusion_matrix \n",
    "\n",
    "n_outliers = len(fraud) \n",
    "n_errors = (yPred != y_test).sum() \n",
    "print(\"The model used is Random Forest classifier\") \n",
    "\n",
    "acc = accuracy_score(y_test, yPred) \n",
    "print(\"The accuracy is {}\".format(acc)) \n",
    "\n",
    "prec = precision_score(y_test, yPred) \n",
    "print(\"The precision is {}\".format(prec)) \n",
    "\n",
    "rec = recall_score(y_test, yPred) \n",
    "print(\"The recall is {}\".format(rec)) \n",
    "\n",
    "f1 = f1_score(y_test, yPred) \n",
    "print(\"The F1-Score is {}\".format(f1)) \n",
    "\n",
    "MCC = matthews_corrcoef(y_test, yPred) \n",
    "print(\"The Matthews correlation coefficient is{}\".format(MCC)) \n"
   ]
  },
  {
   "cell_type": "code",
   "execution_count": 63,
   "metadata": {},
   "outputs": [
    {
     "name": "stdout",
     "output_type": "stream",
     "text": [
      "Training Accuracy : 0.9994504334980567\n"
     ]
    }
   ],
   "source": [
    "from lightgbm import LGBMClassifier\n",
    "from sklearn.metrics import confusion_matrix\n",
    "from sklearn.metrics import classification_report\n",
    "from sklearn.metrics import average_precision_score\n",
    "\n",
    "lgb = LGBMClassifier()\n",
    "lgb.fit(X_train, y_train)\n",
    "\n",
    "lgb_pred = lgb.predict(X_test)\n",
    "\n",
    "print(\"Training Accuracy :\", lgb.score(X_train, y_train))"
   ]
  },
  {
   "cell_type": "code",
   "execution_count": 64,
   "metadata": {},
   "outputs": [],
   "source": [
    "# printing the confusion matrix \n",
    "LABELS = ['Normal', 'Fraud'] \n",
    "conf_matrix = confusion_matrix(y_test, yPred) "
   ]
  },
  {
   "cell_type": "code",
   "execution_count": 65,
   "metadata": {},
   "outputs": [
    {
     "data": {
      "image/png": "[encoded data removed]",
      "text/plain": [
       "<Figure size 864x864 with 2 Axes>"
      ]
     },
     "metadata": {},
     "output_type": "display_data"
    }
   ],
   "source": [
    "plt.figure(figsize =(12, 12)) \n",
    "sns.heatmap(conf_matrix, xticklabels = LABELS, \n",
    "            yticklabels = LABELS, annot = True, fmt =\"d\"); \n",
    "plt.title(\"Confusion matrix\") \n",
    "plt.ylabel('True class') \n",
    "plt.xlabel('Predicted class') \n",
    "plt.show() "
   ]
  }
 ],
 "metadata": {
  "kernelspec": {
   "display_name": "Python 3",
   "language": "python",
   "name": "python3"
  },
  "language_info": {
   "codemirror_mode": {
    "name": "ipython",
    "version": 3
   },
   "file_extension": ".py",
   "mimetype": "text/x-python",
   "name": "python",
   "nbconvert_exporter": "python",
   "pygments_lexer": "ipython3",
   "version": "3.8.3"
  }
 },
 "nbformat": 4,
 "nbformat_minor": 4
}
